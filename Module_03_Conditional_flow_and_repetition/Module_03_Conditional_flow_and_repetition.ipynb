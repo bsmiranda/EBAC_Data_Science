{
  "cells": [
    {
      "attachments": {},
      "cell_type": "markdown",
      "metadata": {
        "id": "KJqp9AANOCtf"
      },
      "source": [
        "# **Module** | Python: Conditional Flow and Repetition"
      ]
    },
    {
      "attachments": {},
      "cell_type": "markdown",
      "metadata": {
        "id": "d9jDtUbDOE1-"
      },
      "source": [
        "# **Topics**\n",
        "\n",
        "<ol type=\"1\">\n",
        "  <li>Conditional structure if / else / elif;</li>\n",
        "  <li>Conditional structure try / catch / finally;</li>\n",
        "  <li>Conditional structure for / in.</li>\n",
        "</ol>"
      ]
    },
    {
      "attachments": {},
      "cell_type": "markdown",
      "metadata": {
        "id": "SmoHgt-lwkpD"
      },
      "source": [
        "---"
      ]
    },
    {
      "attachments": {},
      "cell_type": "markdown",
      "metadata": {
        "id": "muD1vxozykSC"
      },
      "source": [
        "# 1\\. Conditional structure if / else / elif"
      ]
    },
    {
      "attachments": {},
      "cell_type": "markdown",
      "metadata": {
        "id": "E6D5rjlESJ1A"
      },
      "source": [
        "## **1.1. if / else** "
      ]
    },
    {
      "attachments": {},
      "cell_type": "markdown",
      "metadata": {
        "id": "2SIVm6ySRaeI"
      },
      "source": [
        "Structure for changing the logical flow of code, evaluates a Boolean value or a logical comparison."
      ]
    },
    {
      "attachments": {},
      "cell_type": "markdown",
      "metadata": {
        "id": "jfrmdxoJVw-l"
      },
      "source": [
        "```python\n",
        "if <boolean / logical comparison> == True:\n",
        "  <run this code>\n",
        "else:\n",
        "  <Otherwise run this code>\n",
        "```"
      ]
    },
    {
      "cell_type": "code",
      "execution_count": 4,
      "metadata": {
        "id": "7tNcqW3aTZPr"
      },
      "outputs": [
        {
          "name": "stdout",
          "output_type": "stream",
          "text": [
            "True\n"
          ]
        }
      ],
      "source": [
        "if True:\n",
        "  print(\"True\")\n",
        "else:\n",
        "  print(\"False\")"
      ]
    },
    {
      "cell_type": "code",
      "execution_count": 5,
      "metadata": {},
      "outputs": [
        {
          "name": "stdout",
          "output_type": "stream",
          "text": [
            "False\n"
          ]
        }
      ],
      "source": [
        "if False:\n",
        "  print(\"True\")\n",
        "else:\n",
        "  print(\"False\")"
      ]
    },
    {
      "attachments": {},
      "cell_type": "markdown",
      "metadata": {
        "id": "e3h_XvXxTSqd"
      },
      "source": [
        "**Example**: Credit card security code."
      ]
    },
    {
      "cell_type": "code",
      "execution_count": 7,
      "metadata": {
        "id": "3ungC6KPSg1y"
      },
      "outputs": [
        {
          "name": "stdout",
          "output_type": "stream",
          "text": [
            "False\n"
          ]
        }
      ],
      "source": [
        "security_code = '541'\n",
        "registered_security_code = '092'\n",
        "\n",
        "can_make_payment = security_code == registered_security_code # the codes are different\n",
        "print(can_make_payment)"
      ]
    },
    {
      "cell_type": "code",
      "execution_count": 9,
      "metadata": {
        "id": "5vpLILeASoNz"
      },
      "outputs": [
        {
          "name": "stdout",
          "output_type": "stream",
          "text": [
            "Error: Invalid security code\n"
          ]
        }
      ],
      "source": [
        "if can_make_payment:\n",
        "  print(\"Payment made\")\n",
        "else:\n",
        "  print(\"Error: Invalid security code\")"
      ]
    },
    {
      "cell_type": "code",
      "execution_count": 10,
      "metadata": {
        "id": "oj76sTo-Ttz8"
      },
      "outputs": [
        {
          "name": "stdout",
          "output_type": "stream",
          "text": [
            "Error: Invalid security code\n"
          ]
        }
      ],
      "source": [
        "if security_code == registered_security_code:\n",
        "  print(\"Payment made\")\n",
        "else:\n",
        "  print(\"Error: Invalid security code\")"
      ]
    },
    {
      "attachments": {},
      "cell_type": "markdown",
      "metadata": {
        "id": "zvvqNNM1UDzh"
      },
      "source": [
        "**Example**: Security code and password for a credit card"
      ]
    },
    {
      "cell_type": "code",
      "execution_count": 11,
      "metadata": {
        "id": "42kdrjL3UPnt"
      },
      "outputs": [],
      "source": [
        "security_code = '569'\n",
        "registered_security_code = '569'\n",
        "\n",
        "password = '9924'\n",
        "registered_password = '9924'"
      ]
    },
    {
      "cell_type": "code",
      "execution_count": 12,
      "metadata": {
        "id": "ypis6-LgUn5z"
      },
      "outputs": [
        {
          "name": "stdout",
          "output_type": "stream",
          "text": [
            "Payment made\n"
          ]
        }
      ],
      "source": [
        "if (security_code == registered_security_code) & (password == registered_password):\n",
        "  print(\"Payment made\")\n",
        "else:\n",
        "  print(\"Error: Payment not made\")"
      ]
    },
    {
      "cell_type": "code",
      "execution_count": 13,
      "metadata": {
        "id": "DCCPknUSUwQM"
      },
      "outputs": [
        {
          "name": "stdout",
          "output_type": "stream",
          "text": [
            "Payment made\n"
          ]
        }
      ],
      "source": [
        "if (security_code != registered_security_code) | (password != registered_password):\n",
        "  print(\"Error: Payment not made\")\n",
        "else:\n",
        "  print(\"Payment made\")"
      ]
    },
    {
      "attachments": {},
      "cell_type": "markdown",
      "metadata": {
        "id": "wNkFG1qKSU9M"
      },
      "source": [
        "## **1.2. if / elif / else**"
      ]
    },
    {
      "attachments": {},
      "cell_type": "markdown",
      "metadata": {
        "id": "9c-GagIqSjUA"
      },
      "source": [
        "Assessing multiple conditions"
      ]
    },
    {
      "attachments": {},
      "cell_type": "markdown",
      "metadata": {
        "id": "G66Dxs8pWXPU"
      },
      "source": [
        "```python\n",
        "if <1º boolean / 1ª logical comparison> == True:\n",
        "  <run this code if the first condition for true>\n",
        "elif <2º boolean / 2ª logical comparison> == True:\n",
        "  <run this code if the second condition for true>\n",
        "else:\n",
        "  <otherwise run this code>\n",
        "```"
      ]
    },
    {
      "cell_type": "code",
      "execution_count": 14,
      "metadata": {
        "id": "bLDeLzLxSnwP"
      },
      "outputs": [],
      "source": [
        "security_code = '802'\n",
        "registered_security_code = '852'\n",
        "\n",
        "password = '7703'\n",
        "registered_password = '7783'"
      ]
    },
    {
      "attachments": {},
      "cell_type": "markdown",
      "metadata": {
        "id": "e982wq8XTq49"
      },
      "source": [
        "| CODE        | PASSWORD        | | | CODE AND PASSWORD  | MESSAGE |\n",
        "|----------|----------|-|-|----------|-|\n",
        "| **TRUE** | **TRUE** | | | **TRUE** | Payment made |\n",
        "| **TRUE** | FALSE    | | | FALSE    | Error: Invalid password |\n",
        "| FALSE    | FALSE    | | | FALSE    | Error: Invalid security code and password |\n",
        "| FALSE    | **TRUE** | | | FALSE    | Error: Invalid security code |"
      ]
    },
    {
      "cell_type": "code",
      "execution_count": 16,
      "metadata": {
        "id": "rbjgy-XSSy8w"
      },
      "outputs": [
        {
          "name": "stdout",
          "output_type": "stream",
          "text": [
            "Erro: Invalid security code and password\n"
          ]
        }
      ],
      "source": [
        "if (security_code == registered_security_code) & (password == registered_password):\n",
        "  print(\"Payment made\")\n",
        "\n",
        "elif (security_code != registered_security_code) & (password == registered_password):\n",
        "  print(\"Error: Invalid password\")\n",
        "\n",
        "elif (security_code == registered_security_code) & (password != registered_password):\n",
        "  print(\"Erro: Invalid security code\")\n",
        "\n",
        "else:\n",
        "  print(\"Erro: Invalid security code and password\")"
      ]
    },
    {
      "attachments": {},
      "cell_type": "markdown",
      "metadata": {
        "id": "4rRCvy_UURrM"
      },
      "source": [
        "## 2\\. Conditional structure try /except / finally"
      ]
    },
    {
      "attachments": {},
      "cell_type": "markdown",
      "metadata": {
        "id": "cOZDKbe6URrb"
      },
      "source": [
        "### **2.1. Exception** "
      ]
    },
    {
      "attachments": {},
      "cell_type": "markdown",
      "metadata": {
        "id": "nfc742pLmgL9"
      },
      "source": [
        "Exceptions are errors that can occur during the execution of our code."
      ]
    },
    {
      "attachments": {},
      "cell_type": "markdown",
      "metadata": {
        "id": "0je_kLq_myEV"
      },
      "source": [
        "**Exemplo**: Erro de operações numéricas impossíveis"
      ]
    },
    {
      "cell_type": "code",
      "execution_count": 17,
      "metadata": {
        "id": "2yXpo2dfmm1T"
      },
      "outputs": [],
      "source": [
        "price = 132.85\n",
        "people = 0"
      ]
    },
    {
      "cell_type": "code",
      "execution_count": 18,
      "metadata": {
        "id": "LsrxSe--nI6b"
      },
      "outputs": [
        {
          "ename": "ZeroDivisionError",
          "evalue": "float division by zero",
          "output_type": "error",
          "traceback": [
            "\u001b[0;31m---------------------------------------------------------------------------\u001b[0m",
            "\u001b[0;31mZeroDivisionError\u001b[0m                         Traceback (most recent call last)",
            "Cell \u001b[0;32mIn[18], line 2\u001b[0m\n\u001b[1;32m      1\u001b[0m \u001b[39m# returns an error -> ZeroDivisionError\u001b[39;00m\n\u001b[0;32m----> 2\u001b[0m value_per_person \u001b[39m=\u001b[39m price \u001b[39m/\u001b[39;49m people\n",
            "\u001b[0;31mZeroDivisionError\u001b[0m: float division by zero"
          ]
        }
      ],
      "source": [
        "# returns an error -> ZeroDivisionError\n",
        "value_per_person = price / people"
      ]
    },
    {
      "attachments": {},
      "cell_type": "markdown",
      "metadata": {
        "id": "paZfxkVzm3gW"
      },
      "source": [
        "**Example**: Error due to combinations of different types"
      ]
    },
    {
      "cell_type": "code",
      "execution_count": 19,
      "metadata": {
        "id": "rrlR9Xv6nErH"
      },
      "outputs": [],
      "source": [
        "name = 'Bruno Miranda'\n",
        "age = True"
      ]
    },
    {
      "cell_type": "code",
      "execution_count": 20,
      "metadata": {
        "id": "IT3ySwYxnX0j"
      },
      "outputs": [
        {
          "ename": "TypeError",
          "evalue": "can only concatenate str (not \"bool\") to str",
          "output_type": "error",
          "traceback": [
            "\u001b[0;31m---------------------------------------------------------------------------\u001b[0m",
            "\u001b[0;31mTypeError\u001b[0m                                 Traceback (most recent call last)",
            "Cell \u001b[0;32mIn[20], line 2\u001b[0m\n\u001b[1;32m      1\u001b[0m \u001b[39m# returns an error -> TypeError\u001b[39;00m\n\u001b[0;32m----> 2\u001b[0m presentation \u001b[39m=\u001b[39m \u001b[39m'\u001b[39;49m\u001b[39mHello people, my name is \u001b[39;49m\u001b[39m'\u001b[39;49m \u001b[39m+\u001b[39;49m name \u001b[39m+\u001b[39;49m \u001b[39m'\u001b[39;49m\u001b[39m and I am \u001b[39;49m\u001b[39m'\u001b[39;49m \u001b[39m+\u001b[39;49m age \u001b[39m+\u001b[39m \u001b[39m'\u001b[39m\u001b[39m years\u001b[39m\u001b[39m'\u001b[39m\n",
            "\u001b[0;31mTypeError\u001b[0m: can only concatenate str (not \"bool\") to str"
          ]
        }
      ],
      "source": [
        "# returns an error -> TypeError\n",
        "presentation = 'Hello people, my name is ' + name + ' and I am ' + age + ' years'"
      ]
    },
    {
      "cell_type": "code",
      "execution_count": 21,
      "metadata": {},
      "outputs": [
        {
          "ename": "TypeError",
          "evalue": "can only concatenate str (not \"int\") to str",
          "output_type": "error",
          "traceback": [
            "\u001b[0;31m---------------------------------------------------------------------------\u001b[0m",
            "\u001b[0;31mTypeError\u001b[0m                                 Traceback (most recent call last)",
            "Cell \u001b[0;32mIn[21], line 4\u001b[0m\n\u001b[1;32m      1\u001b[0m name \u001b[39m=\u001b[39m \u001b[39m'\u001b[39m\u001b[39mBruno Miranda\u001b[39m\u001b[39m'\u001b[39m\n\u001b[1;32m      2\u001b[0m age \u001b[39m=\u001b[39m \u001b[39m19\u001b[39m\n\u001b[0;32m----> 4\u001b[0m presentation \u001b[39m=\u001b[39m \u001b[39m'\u001b[39;49m\u001b[39mHello people, my name is \u001b[39;49m\u001b[39m'\u001b[39;49m \u001b[39m+\u001b[39;49m name \u001b[39m+\u001b[39;49m \u001b[39m'\u001b[39;49m\u001b[39m and I am \u001b[39;49m\u001b[39m'\u001b[39;49m \u001b[39m+\u001b[39;49m age \u001b[39m+\u001b[39m \u001b[39m'\u001b[39m\u001b[39m years\u001b[39m\u001b[39m'\u001b[39m\n",
            "\u001b[0;31mTypeError\u001b[0m: can only concatenate str (not \"int\") to str"
          ]
        }
      ],
      "source": [
        "name = 'Bruno Miranda'\n",
        "age = 19\n",
        "\n",
        "presentation = 'Hello people, my name is ' + name + ' and I am ' + age + ' years'"
      ]
    },
    {
      "attachments": {},
      "cell_type": "markdown",
      "metadata": {
        "id": "PdIsskJNnors"
      },
      "source": [
        "**Example**: Data structure indexing error."
      ]
    },
    {
      "cell_type": "code",
      "execution_count": 26,
      "metadata": {
        "id": "AL0YPYtqntUc"
      },
      "outputs": [],
      "source": [
        "years = [2019, 2020, 2021]"
      ]
    },
    {
      "cell_type": "code",
      "execution_count": 27,
      "metadata": {
        "id": "1mksjF3inyub"
      },
      "outputs": [
        {
          "ename": "IndexError",
          "evalue": "list index out of range",
          "output_type": "error",
          "traceback": [
            "\u001b[0;31m---------------------------------------------------------------------------\u001b[0m",
            "\u001b[0;31mIndexError\u001b[0m                                Traceback (most recent call last)",
            "Cell \u001b[0;32mIn[27], line 1\u001b[0m\n\u001b[0;32m----> 1\u001b[0m current_year \u001b[39m=\u001b[39m years[\u001b[39m3\u001b[39;49m]\n",
            "\u001b[0;31mIndexError\u001b[0m: list index out of range"
          ]
        }
      ],
      "source": [
        "current_year = years[3]"
      ]
    },
    {
      "cell_type": "code",
      "execution_count": 28,
      "metadata": {
        "id": "RhjOE1jCn4ZA"
      },
      "outputs": [],
      "source": [
        "courses = {\n",
        "    'python': {\n",
        "        'name': 'Python for Data Analysis', 'duration': 2.5\n",
        "    }, \n",
        "    'sql': {\n",
        "        'name': 'SQL for Data Analysis', 'duration': 2\n",
        "    }\n",
        "}"
      ]
    },
    {
      "cell_type": "code",
      "execution_count": 29,
      "metadata": {
        "id": "hUl1PmAAoSqt"
      },
      "outputs": [
        {
          "ename": "KeyError",
          "evalue": "'analyst'",
          "output_type": "error",
          "traceback": [
            "\u001b[0;31m---------------------------------------------------------------------------\u001b[0m",
            "\u001b[0;31mKeyError\u001b[0m                                  Traceback (most recent call last)",
            "Cell \u001b[0;32mIn[29], line 2\u001b[0m\n\u001b[1;32m      1\u001b[0m \u001b[39m# não dá para extrair essa chave pois ela não existe\u001b[39;00m\n\u001b[0;32m----> 2\u001b[0m current_course \u001b[39m=\u001b[39m courses[\u001b[39m'\u001b[39;49m\u001b[39manalyst\u001b[39;49m\u001b[39m'\u001b[39;49m]\n",
            "\u001b[0;31mKeyError\u001b[0m: 'analyst'"
          ]
        }
      ],
      "source": [
        "# não dá para extrair essa chave pois ela não existe\n",
        "current_course = courses['analyst']"
      ]
    },
    {
      "attachments": {},
      "cell_type": "markdown",
      "metadata": {
        "id": "5q6xcwOWURrc"
      },
      "source": [
        "### **2.2. try / except** "
      ]
    },
    {
      "attachments": {},
      "cell_type": "markdown",
      "metadata": {
        "id": "3eu6Eu1Uoh_t"
      },
      "source": [
        "Structure for handling exceptions."
      ]
    },
    {
      "cell_type": "code",
      "execution_count": 30,
      "metadata": {},
      "outputs": [
        {
          "name": "stdout",
          "output_type": "stream",
          "text": [
            "Invalid number of people. A value greater than 0 is expected and a value equal to 0\n"
          ]
        }
      ],
      "source": [
        "price = 132.85\n",
        "people = 0\n",
        "\n",
        "try:\n",
        "  value_per_person = price / people\n",
        "  print(value_per_person)\n",
        "except ZeroDivisionError:\n",
        "  print('Invalid number of people. A value greater than 0 is expected and a value equal to ' + str(people))"
      ]
    },
    {
      "cell_type": "code",
      "execution_count": 31,
      "metadata": {
        "id": "xW1r3TMvpIxE"
      },
      "outputs": [
        {
          "name": "stdout",
          "output_type": "stream",
          "text": [
            "List of years is less than the chosen value. A value between 0 and 2\n"
          ]
        }
      ],
      "source": [
        "year = [2019, 2020, 2021]\n",
        "\n",
        "try:\n",
        "  current_year = years[3]\n",
        "  print(current_year)\n",
        "except Exception: # if we don't know the error that will occur, use Exception\n",
        "  print('List of years is less than the chosen value. A value between 0 and ' + str(len(years) - 1))"
      ]
    },
    {
      "cell_type": "code",
      "execution_count": 32,
      "metadata": {},
      "outputs": [
        {
          "name": "stdout",
          "output_type": "stream",
          "text": [
            "2021\n"
          ]
        }
      ],
      "source": [
        "# correcting the code above\n",
        "years = [2019, 2020, 2021]\n",
        "\n",
        "try:\n",
        "    current_year = years[2] # returns 2021, in this case it will not fall into the exception\n",
        "    print(current_year)\n",
        "except Exception:\n",
        "    print('List of years is less than the chosen value. A value between 0 and ' + str(len(years) - 1))"
      ]
    },
    {
      "cell_type": "code",
      "execution_count": 33,
      "metadata": {
        "id": "CSxX6o_3pxCV"
      },
      "outputs": [
        {
          "name": "stdout",
          "output_type": "stream",
          "text": [
            "Exception description: list index out of range\n",
            "Exception type: <class 'IndexError'>\n",
            "List of years is less than the chosen value. A value between 0 and 2\n"
          ]
        }
      ],
      "source": [
        "# an example of code capturing the error correctly\n",
        "\n",
        "years = [2019, 2020, 2021]\n",
        "\n",
        "try:\n",
        "    current_year = years[3]\n",
        "    print(current_year)\n",
        "except Exception as exc:\n",
        "    print('Exception description: ' + str(exc))\n",
        "    print('Exception type: ' + str(type(exc)))\n",
        "    print('List of years is less than the chosen value. A value between 0 and ' + str(len(years) - 1))"
      ]
    },
    {
      "cell_type": "code",
      "execution_count": 34,
      "metadata": {
        "id": "f8f66yWuqKul"
      },
      "outputs": [
        {
          "name": "stdout",
          "output_type": "stream",
          "text": [
            "List of years is less than the chosen value. A value between 0 and 2\n"
          ]
        }
      ],
      "source": [
        "# now we know that the error is IndexError, we can use more than one except\n",
        "# the code will fall into except IndexError\n",
        "\n",
        "years = [2019, 2020, 2021]\n",
        "\n",
        "try:\n",
        "    current_year = years[3]\n",
        "    print(current_year)\n",
        "except IndexError:\n",
        "    print('List of years is less than the chosen value. A value between 0 and ' + str(len(years) - 1))\n",
        "except Exception as exc:\n",
        "    print(exc)\n",
        "    print('Generic error')\n",
        "    "
      ]
    },
    {
      "attachments": {},
      "cell_type": "markdown",
      "metadata": {
        "id": "WxnG-e3HURrd"
      },
      "source": [
        "### **2.3. try / except / finally** "
      ]
    },
    {
      "cell_type": "code",
      "execution_count": 37,
      "metadata": {
        "id": "i1e_Ag58qZ0n"
      },
      "outputs": [
        {
          "name": "stdout",
          "output_type": "stream",
          "text": [
            "Second chance.\n",
            "Hello people, my name is Bruno and I am 19 age.\n"
          ]
        }
      ],
      "source": [
        "name = 'Bruno'\n",
        "age = 19\n",
        "\n",
        "try:\n",
        "  presentation = 'Hello people, my name is ' + name + ' and I am ' + age + ' age.'\n",
        "  print(presentation)\n",
        "except TypeError:\n",
        "  age = str(age)\n",
        "finally:\n",
        "  print('Second chance.')\n",
        "  presentation = 'Hello people, my name is ' + name + ' and I am ' + age + ' age.'\n",
        "  print(presentation)"
      ]
    },
    {
      "attachments": {},
      "cell_type": "markdown",
      "metadata": {
        "id": "_4Ugey3GWq78"
      },
      "source": [
        "## 3\\. Repetition structure for / in"
      ]
    },
    {
      "attachments": {},
      "cell_type": "markdown",
      "metadata": {
        "id": "cyA9LdYcBfeF"
      },
      "source": [
        "### **3.1. for / in** "
      ]
    },
    {
      "attachments": {},
      "cell_type": "markdown",
      "metadata": {
        "id": "-F-0zD99Bv97"
      },
      "source": [
        "Structure that allows the repeated execution of a block of code over and over again."
      ]
    },
    {
      "attachments": {},
      "cell_type": "markdown",
      "metadata": {
        "id": "JyP2wUaUBjrp"
      },
      "source": [
        "```python\n",
        "for temporary variable in collection:\n",
        "  <run this code>\n",
        "```"
      ]
    },
    {
      "attachments": {},
      "cell_type": "markdown",
      "metadata": {
        "id": "lk9nsQkTWq7-"
      },
      "source": [
        "### **3.2. for / in / range** "
      ]
    },
    {
      "attachments": {},
      "cell_type": "markdown",
      "metadata": {
        "id": "OHdGHUcN24u3"
      },
      "source": [
        "Structure that allows the repeated execution of a block of code **n** times."
      ]
    },
    {
      "cell_type": "code",
      "execution_count": 38,
      "metadata": {
        "id": "D68uw4X024NQ"
      },
      "outputs": [
        {
          "name": "stdout",
          "output_type": "stream",
          "text": [
            "0\n",
            "1\n",
            "2\n",
            "3\n",
            "4\n",
            "5\n"
          ]
        }
      ],
      "source": [
        "for value in range(6):\n",
        "  print(value)"
      ]
    },
    {
      "cell_type": "code",
      "execution_count": 39,
      "metadata": {
        "id": "ZhKvc8BR3g0a"
      },
      "outputs": [
        {
          "name": "stdout",
          "output_type": "stream",
          "text": [
            "4999950000\n"
          ]
        }
      ],
      "source": [
        "sum = 0\n",
        "\n",
        "for value in range(0, 100000):\n",
        "  sum = sum + value\n",
        "  # print(soma)\n",
        "\n",
        "print(sum)"
      ]
    },
    {
      "cell_type": "code",
      "execution_count": 41,
      "metadata": {
        "id": "xvh2Imqy4YyU"
      },
      "outputs": [
        {
          "name": "stdout",
          "output_type": "stream",
          "text": [
            "2\n",
            "4\n",
            "6\n",
            "8\n"
          ]
        }
      ],
      "source": [
        "for multiple_two in range(2, 10, 2):\n",
        "  print(multiple_two)"
      ]
    },
    {
      "attachments": {},
      "cell_type": "markdown",
      "metadata": {
        "id": "5nmm_ShgWq7_"
      },
      "source": [
        "### **3.3. for / in / list** "
      ]
    },
    {
      "attachments": {},
      "cell_type": "markdown",
      "metadata": {
        "id": "LB7Ghhx94ljq"
      },
      "source": [
        "Structure that allows the execution of a block of code for all elements of a list."
      ]
    },
    {
      "cell_type": "code",
      "execution_count": 42,
      "metadata": {
        "id": "z12p8IT-4s4U"
      },
      "outputs": [
        {
          "name": "stdout",
          "output_type": "stream",
          "text": [
            "apple\n",
            "banana\n",
            "orange\n",
            "grape\n",
            "pear\n"
          ]
        }
      ],
      "source": [
        "fruits = ['apple', 'banana', 'orange', 'grape', 'pear']\n",
        "\n",
        "for fruits in fruits:\n",
        "  print(fruits)"
      ]
    },
    {
      "cell_type": "code",
      "execution_count": 43,
      "metadata": {
        "id": "3zkZ-gPU8diZ"
      },
      "outputs": [
        {
          "name": "stdout",
          "output_type": "stream",
          "text": [
            "The letter 'o' is present in the sentence.\n",
            "The letter 'o' is present in the sentence.\n"
          ]
        }
      ],
      "source": [
        "phrase = 'Hello, my name is Bruno Miranda.'\n",
        "\n",
        "for character in phrase:\n",
        "  if (character == 'A') | (character == 'o'):\n",
        "    print(f\"The letter '{character}' is present in the sentence.\")"
      ]
    },
    {
      "attachments": {},
      "cell_type": "markdown",
      "metadata": {
        "id": "GsUpIpUoXmhc"
      },
      "source": [
        "### **3.4. for / in / dict** "
      ]
    },
    {
      "attachments": {},
      "cell_type": "markdown",
      "metadata": {
        "id": "xx38Jwu_7OJS"
      },
      "source": [
        "Structure that allows the execution of a block of code for all elements of a dictionary."
      ]
    },
    {
      "cell_type": "code",
      "execution_count": 44,
      "metadata": {
        "id": "Zo-LDBca7ULR"
      },
      "outputs": [],
      "source": [
        "credit = {'123': 750, '456': 812, '789': 980}"
      ]
    },
    {
      "cell_type": "code",
      "execution_count": 45,
      "metadata": {
        "id": "-MI9OP197jUU"
      },
      "outputs": [
        {
          "name": "stdout",
          "output_type": "stream",
          "text": [
            "For document 123, the credit score value is 750.\n",
            "\n",
            "\n",
            "For document 456, the credit score value is 812.\n",
            "\n",
            "\n",
            "For document 789, the credit score value is 980.\n",
            "\n",
            "\n"
          ]
        }
      ],
      "source": [
        "for key, value in credit.items():\n",
        "  print(f'For document {key}, the credit score value is {value}.')\n",
        "  print('\\n')"
      ]
    },
    {
      "cell_type": "code",
      "execution_count": 47,
      "metadata": {
        "id": "juFICibw76Ay"
      },
      "outputs": [
        {
          "name": "stdout",
          "output_type": "stream",
          "text": [
            "123\n",
            "750\n",
            "For document 123, the credit score value is 750.\n",
            "\n",
            "\n",
            "456\n",
            "812\n",
            "For document 456, the credit score value is 812.\n",
            "\n",
            "\n",
            "789\n",
            "980\n",
            "For document 789, the credit score value is 980.\n",
            "\n",
            "\n"
          ]
        }
      ],
      "source": [
        "for key in credit.keys():\n",
        "  print(key)\n",
        "  print(credit[key])\n",
        "  print(f'For document {key}, the credit score value is {credit[key]}.')\n",
        "  print('\\n')"
      ]
    },
    {
      "cell_type": "code",
      "execution_count": 48,
      "metadata": {
        "id": "kocTkvpH8LsV"
      },
      "outputs": [
        {
          "name": "stdout",
          "output_type": "stream",
          "text": [
            "750\n",
            "The credit score value is 750, but we no longer have the keys :(.\n",
            "\n",
            "\n",
            "812\n",
            "The credit score value is 812, but we no longer have the keys :(.\n",
            "\n",
            "\n",
            "980\n",
            "The credit score value is 980, but we no longer have the keys :(.\n",
            "\n",
            "\n"
          ]
        }
      ],
      "source": [
        "for value in credit.values():\n",
        "  print(value)\n",
        "  print(f'The credit score value is {value}, but we no longer have the keys :(.')\n",
        "  print('\\n')"
      ]
    },
    {
      "attachments": {},
      "cell_type": "markdown",
      "metadata": {
        "id": "NOh6bacJWq8A"
      },
      "source": [
        "### **3.5. break / continue** "
      ]
    },
    {
      "attachments": {},
      "cell_type": "markdown",
      "metadata": {
        "id": "NzAhsgdE9Jw9"
      },
      "source": [
        "Structure that allows the breaking or advancement of a repeating loop."
      ]
    },
    {
      "cell_type": "code",
      "execution_count": 49,
      "metadata": {
        "id": "6G_zUh2t9TGk"
      },
      "outputs": [
        {
          "name": "stdout",
          "output_type": "stream",
          "text": [
            "0\n",
            "1\n",
            "2\n",
            "3\n",
            "4\n",
            "5\n",
            "6\n",
            "7\n",
            "8\n",
            "9\n",
            "10\n"
          ]
        }
      ],
      "source": [
        "for i in range(0, 10*10*10*10*10*10):\n",
        "  print(i)\n",
        "  if i == 10:\n",
        "    break"
      ]
    },
    {
      "cell_type": "code",
      "execution_count": 50,
      "metadata": {
        "id": "tTDBNrwU9pie"
      },
      "outputs": [
        {
          "name": "stdout",
          "output_type": "stream",
          "text": [
            "The number 3 is odd\n"
          ]
        }
      ],
      "source": [
        "number = 3\n",
        "\n",
        "if number % 2 == 0:\n",
        "  print(f'The number {number} is even')\n",
        "else:\n",
        "  print(f'The number {number} is odd')"
      ]
    },
    {
      "cell_type": "code",
      "execution_count": 51,
      "metadata": {
        "id": "Wd7P73u69_62"
      },
      "outputs": [
        {
          "name": "stdout",
          "output_type": "stream",
          "text": [
            "The number 361 is odd\n",
            "The number 553 is odd\n",
            "The number 194 is even\n"
          ]
        }
      ],
      "source": [
        "numbers = [361, 553, 194, 13, 510, 33, 135]\n",
        "\n",
        "for number in numbers:\n",
        "\n",
        "  if number % 2 == 0:\n",
        "    print(f'The number {number} is even')\n",
        "    break\n",
        "  else:\n",
        "    print(f'The number {number} is odd')"
      ]
    },
    {
      "cell_type": "code",
      "execution_count": 52,
      "metadata": {
        "id": "O8y3bath-oEl"
      },
      "outputs": [
        {
          "name": "stdout",
          "output_type": "stream",
          "text": [
            "The number 194 is even\n"
          ]
        }
      ],
      "source": [
        "numbers = [361, 553, 194, 13, 510, 33, 135]\n",
        "\n",
        "for number in numbers:\n",
        "\n",
        "  if number % 2 == 0:\n",
        "    print(f'The number {number} is even')\n",
        "    break\n",
        "  else:\n",
        "    continue\n",
        "    print(f'The number {number} is odd')"
      ]
    },
    {
      "cell_type": "code",
      "execution_count": null,
      "metadata": {},
      "outputs": [],
      "source": []
    }
  ],
  "metadata": {
    "colab": {
      "collapsed_sections": [
        "JG1HL69-j0lH",
        "s_Dj-BgThLg5",
        "jeEzLmuRhDQy",
        "PoTeRwlihDQ0",
        "QpMlxqRyhDQ1",
        "ov7Fg-mWhDQ1",
        "DvHPNAoPgdiG",
        "3SMp5GwjglJm",
        "e3ieQfXTgqd3",
        "L0pKWNr5fm9z",
        "DMhCpOU_gupo",
        "l3h0WP2Eg2ht",
        "rWG4Vk6XaWtf",
        "wkibgd8rB8y3",
        "IjPaJtnYE0MI",
        "2lpj1rszc--m",
        "HnWg_mhLd5gC",
        "RhqmXiHQo-is",
        "SvT9xrajLL7J",
        "91eSyA2cLLqv"
      ],
      "name": "module_3_class.ipynb",
      "provenance": [],
      "toc_visible": true
    },
    "kernelspec": {
      "display_name": "Python 3",
      "name": "python3"
    },
    "language_info": {
      "codemirror_mode": {
        "name": "ipython",
        "version": 3
      },
      "file_extension": ".py",
      "mimetype": "text/x-python",
      "name": "python",
      "nbconvert_exporter": "python",
      "pygments_lexer": "ipython3",
      "version": "3.11.4"
    }
  },
  "nbformat": 4,
  "nbformat_minor": 0
}
