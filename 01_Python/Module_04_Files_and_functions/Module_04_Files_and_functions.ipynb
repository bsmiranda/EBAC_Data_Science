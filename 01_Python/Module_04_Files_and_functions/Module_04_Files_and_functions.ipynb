{
 "cells": [
  {
   "attachments": {},
   "cell_type": "markdown",
   "metadata": {},
   "source": [
    "# **Module 04** | Python: Files and Functions"
   ]
  },
  {
   "attachments": {},
   "cell_type": "markdown",
   "metadata": {},
   "source": [
    "## **Topics**\n",
    "\n",
    "<ol type=\"1\">\n",
    "  <li>Reading;</li>\n",
    "  <li>Writing;</li>\n",
    "  <li>Functions;</li>\n",
    "  <li>Scope.</li>\n",
    "</ol>"
   ]
  },
  {
   "attachments": {},
   "cell_type": "markdown",
   "metadata": {},
   "source": [
    "## Reading"
   ]
  },
  {
   "attachments": {},
   "cell_type": "markdown",
   "metadata": {},
   "source": [
    "Creating the banco.csv file."
   ]
  },
  {
   "cell_type": "code",
   "execution_count": 26,
   "metadata": {},
   "outputs": [
    {
     "name": "stdout",
     "output_type": "stream",
     "text": [
      "Overwriting banco.csv\n"
     ]
    }
   ],
   "source": [
    "%%writefile banco.csv\n",
    "age,job,marital,education,default,balance,housing,loan\n",
    "30,unemployed,married,primary,no,1787,no,no\n",
    "33,services,married,secondary,no,4789,yes,yes\n",
    "35,management,single,tertiary,no,1350,yes,no\n",
    "30,management,married,tertiary,no,1476,yes,yes\n",
    "59,blue-collar,married,secondary,no,0,yes,no\n",
    "35,management,single,tertiary,no,747,no,no\n",
    "36,self-employed,married,tertiary,no,307,yes,no\n",
    "39,technician,married,secondary,no,147,yes,no\n",
    "41,entrepreneur,married,tertiary,no,221,yes,no\n",
    "43,services,married,primary,no,-88,yes,yes"
   ]
  },
  {
   "attachments": {},
   "cell_type": "markdown",
   "metadata": {},
   "source": [
    "### with / open"
   ]
  },
  {
   "attachments": {},
   "cell_type": "markdown",
   "metadata": {},
   "source": [
    "The read commands are.\n",
    "\n",
    "```python\n",
    "with open(file='<file path>', mode='<reading mode>', encoding='<decoder>') as <surname>:\n",
    "    code block\n",
    "```"
   ]
  },
  {
   "attachments": {},
   "cell_type": "markdown",
   "metadata": {},
   "source": [
    "The reading modes are.\n",
    "* **r**: Open the file for reading (default)."
   ]
  },
  {
   "attachments": {},
   "cell_type": "markdown",
   "metadata": {},
   "source": [
    "### read"
   ]
  },
  {
   "attachments": {},
   "cell_type": "markdown",
   "metadata": {},
   "source": [
    "Command to read the entire contents of a file."
   ]
  },
  {
   "cell_type": "code",
   "execution_count": 27,
   "metadata": {},
   "outputs": [
    {
     "name": "stdout",
     "output_type": "stream",
     "text": [
      "age,job,marital,education,default,balance,housing,loan\n",
      "30,unemployed,married,primary,no,1787,no,no\n",
      "33,services,married,secondary,no,4789,yes,yes\n",
      "35,management,single,tertiary,no,1350,yes,no\n",
      "30,management,married,tertiary,no,1476,yes,yes\n",
      "59,blue-collar,married,secondary,no,0,yes,no\n",
      "35,management,single,tertiary,no,747,no,no\n",
      "36,self-employed,married,tertiary,no,307,yes,no\n",
      "39,technician,married,secondary,no,147,yes,no\n",
      "41,entrepreneur,married,tertiary,no,221,yes,no\n",
      "43,services,married,primary,no,-88,yes,yes\n",
      "\n"
     ]
    }
   ],
   "source": [
    "content = None\n",
    "\n",
    "with open(file='./banco.csv', mode='r', encoding='utf8') as archive:\n",
    "    content = archive.read()\n",
    "\n",
    "print(content)"
   ]
  },
  {
   "attachments": {},
   "cell_type": "markdown",
   "metadata": {},
   "source": [
    "### readline"
   ]
  },
  {
   "attachments": {},
   "cell_type": "markdown",
   "metadata": {},
   "source": [
    "Command to read the contents of a file one line at a time."
   ]
  },
  {
   "cell_type": "code",
   "execution_count": 28,
   "metadata": {},
   "outputs": [
    {
     "name": "stdout",
     "output_type": "stream",
     "text": [
      "['age,job,marital,education,default,balance,housing,loan\\n', '30,unemployed,married,primary,no,1787,no,no\\n', '33,services,married,secondary,no,4789,yes,yes\\n', '35,management,single,tertiary,no,1350,yes,no\\n', '30,management,married,tertiary,no,1476,yes,yes\\n', '59,blue-collar,married,secondary,no,0,yes,no\\n', '35,management,single,tertiary,no,747,no,no\\n', '36,self-employed,married,tertiary,no,307,yes,no\\n', '39,technician,married,secondary,no,147,yes,no\\n', '41,entrepreneur,married,tertiary,no,221,yes,no\\n', '43,services,married,primary,no,-88,yes,yes\\n']\n"
     ]
    }
   ],
   "source": [
    "content = []\n",
    "\n",
    "with open(file='./banco.csv', mode='r', encoding='utf8') as archive:\n",
    "    line = archive.readline()\n",
    "    while line:\n",
    "        content.append(line)\n",
    "        line = archive.readline()\n",
    "\n",
    "print(content)"
   ]
  },
  {
   "cell_type": "code",
   "execution_count": 29,
   "metadata": {},
   "outputs": [
    {
     "name": "stdout",
     "output_type": "stream",
     "text": [
      "age,job,marital,education,default,balance,housing,loan\n",
      "\n",
      "30,unemployed,married,primary,no,1787,no,no\n",
      "\n",
      "33,services,married,secondary,no,4789,yes,yes\n",
      "\n",
      "35,management,single,tertiary,no,1350,yes,no\n",
      "\n",
      "30,management,married,tertiary,no,1476,yes,yes\n",
      "\n",
      "59,blue-collar,married,secondary,no,0,yes,no\n",
      "\n",
      "35,management,single,tertiary,no,747,no,no\n",
      "\n",
      "36,self-employed,married,tertiary,no,307,yes,no\n",
      "\n",
      "39,technician,married,secondary,no,147,yes,no\n",
      "\n",
      "41,entrepreneur,married,tertiary,no,221,yes,no\n",
      "\n",
      "43,services,married,primary,no,-88,yes,yes\n",
      "\n"
     ]
    }
   ],
   "source": [
    "for line in content:\n",
    "    print(line)"
   ]
  },
  {
   "attachments": {},
   "cell_type": "markdown",
   "metadata": {},
   "source": [
    "**Example**: Extracting the values from the first column (age)."
   ]
  },
  {
   "cell_type": "code",
   "execution_count": 30,
   "metadata": {},
   "outputs": [
    {
     "name": "stdout",
     "output_type": "stream",
     "text": [
      "[30, 33, 35, 30, 59, 35, 36, 39, 41, 43]\n"
     ]
    }
   ],
   "source": [
    "ages = []\n",
    "\n",
    "with open(file='./banco.csv', mode='r', encoding='utf8') as archive:\n",
    "  line = archive.readline() # lê o cabeçalho\n",
    "  line = archive.readline() # lê a primeira linha\n",
    "  while line:\n",
    "    sep_line = line.split(sep=',') # quebra a string nas virgulas e salva os resultados em uma lista\n",
    "    age = sep_line[0] # seleciona o primeiro elemento da lista\n",
    "    age = int(age) # converte o valor de string para integer (inteiro)\n",
    "    ages.append(age) # salva o valor na lista de idades\n",
    "    line = archive.readline() # lê uma nova linha, se a linha não existir, salva o valor None\n",
    "\n",
    "print(ages)"
   ]
  },
  {
   "attachments": {},
   "cell_type": "markdown",
   "metadata": {},
   "source": [
    "## Writing"
   ]
  },
  {
   "attachments": {},
   "cell_type": "markdown",
   "metadata": {},
   "source": [
    "### with /open"
   ]
  },
  {
   "attachments": {},
   "cell_type": "markdown",
   "metadata": {},
   "source": [
    "Command to read/write files.\n",
    "\n",
    "```python\n",
    "with open(file='<file path>', mode='<read/write mode>', encoding='<decoder>') as <surname>:\n",
    "  code block\n",
    "```"
   ]
  },
  {
   "attachments": {},
   "cell_type": "markdown",
   "metadata": {},
   "source": [
    "The reading modes are:\n",
    "\n",
    "*   **r**: Open the file for reading (default);\n",
    "*   **w**: Open the file for writing (overwrite the original file).\n",
    "*   **a**: Open the file to add (do not overwrite the original file)."
   ]
  },
  {
   "attachments": {},
   "cell_type": "markdown",
   "metadata": {},
   "source": [
    "### write"
   ]
  },
  {
   "attachments": {},
   "cell_type": "markdown",
   "metadata": {},
   "source": [
    "Command to wite to a file, if the file does not exist, it will be created."
   ]
  },
  {
   "attachments": {},
   "cell_type": "markdown",
   "metadata": {},
   "source": [
    "- Writing mode (w)."
   ]
  },
  {
   "cell_type": "code",
   "execution_count": 31,
   "metadata": {},
   "outputs": [],
   "source": [
    "with open(file='ages.csv', mode='w', encoding='utf8') as fp:\n",
    "  line = 'age' + '\\n'\n",
    "  fp.write(line)\n",
    "  for age in ages:\n",
    "    line = str(age) + '\\n'\n",
    "    fp.write(line)"
   ]
  },
  {
   "attachments": {},
   "cell_type": "markdown",
   "metadata": {},
   "source": [
    "- Append mode (a)."
   ]
  },
  {
   "cell_type": "code",
   "execution_count": 32,
   "metadata": {},
   "outputs": [],
   "source": [
    "with open(file='ages.csv', mode='a', encoding='utf8') as fp:\n",
    "  for age in ages:\n",
    "    line = str(age + 100) + '\\n'\n",
    "    fp.write(line)"
   ]
  },
  {
   "attachments": {},
   "cell_type": "markdown",
   "metadata": {},
   "source": [
    "**Example**: Copying a file with a different extension."
   ]
  },
  {
   "cell_type": "code",
   "execution_count": 33,
   "metadata": {},
   "outputs": [
    {
     "name": "stdout",
     "output_type": "stream",
     "text": [
      "Overwriting banco-texto.txt\n"
     ]
    }
   ],
   "source": [
    "%%writefile banco-texto.txt\n",
    "age,job,marital,education,default,balance,housing,loan\n",
    "30,unemployed,married,primary,no,1787,no,no\n",
    "33,services,married,secondary,no,4789,yes,yes\n",
    "35,management,single,tertiary,no,1350,yes,no\n",
    "30,management,married,tertiary,no,1476,yes,yes\n",
    "59,blue-collar,married,secondary,no,0,yes,no\n",
    "35,management,single,tertiary,no,747,no,no\n",
    "36,self-employed,married,tertiary,no,307,yes,no\n",
    "39,technician,married,secondary,no,147,yes,no\n",
    "41,entrepreneur,married,tertiary,no,221,yes,no\n",
    "43,services,married,primary,no,-88,yes,yes"
   ]
  },
  {
   "cell_type": "code",
   "execution_count": 34,
   "metadata": {},
   "outputs": [],
   "source": [
    "with open(file='./banco-texto.txt', mode='r', encoding='utf8') as reading:\n",
    "  with open(file='./banco-csv.csv', mode='w', encoding='utf8') as writing:\n",
    "    line = reading.readline()\n",
    "    while line:\n",
    "      writing.write(line)\n",
    "      line = reading.readline()"
   ]
  },
  {
   "attachments": {},
   "cell_type": "markdown",
   "metadata": {},
   "source": [
    "## Functions"
   ]
  },
  {
   "attachments": {},
   "cell_type": "markdown",
   "metadata": {},
   "source": [
    "### Definitions"
   ]
  },
  {
   "attachments": {},
   "cell_type": "markdown",
   "metadata": {},
   "source": [
    "```python\n",
    "def <name>(<param 1>, <param 2>, ...):\n",
    "    code block\n",
    "    return <return value>\n",
    "```\n",
    "\n",
    "```python\n",
    "var = <function name>(<param 1>, <param 2>, ...)\n",
    "```"
   ]
  },
  {
   "cell_type": "code",
   "execution_count": 35,
   "metadata": {},
   "outputs": [],
   "source": [
    "def print_message(message: str):\n",
    "    print(message)"
   ]
  },
  {
   "cell_type": "code",
   "execution_count": 36,
   "metadata": {},
   "outputs": [],
   "source": [
    "text = 'Hello people, my name is Bruno Miranda!'"
   ]
  },
  {
   "cell_type": "code",
   "execution_count": 37,
   "metadata": {},
   "outputs": [
    {
     "name": "stdout",
     "output_type": "stream",
     "text": [
      "Hello people, my name is Bruno Miranda!\n"
     ]
    }
   ],
   "source": [
    "print_message(message=text)"
   ]
  },
  {
   "attachments": {},
   "cell_type": "markdown",
   "metadata": {},
   "source": [
    "### Return"
   ]
  },
  {
   "attachments": {},
   "cell_type": "markdown",
   "metadata": {},
   "source": [
    "Every function returns at least one value, if not specified, returns null."
   ]
  },
  {
   "cell_type": "code",
   "execution_count": 38,
   "metadata": {},
   "outputs": [],
   "source": [
    "def capital(text: str) -> str:\n",
    "    text_capital = text.upper()\n",
    "    return text_capital"
   ]
  },
  {
   "cell_type": "code",
   "execution_count": 39,
   "metadata": {},
   "outputs": [
    {
     "name": "stdout",
     "output_type": "stream",
     "text": [
      "Bruno Miranda\n",
      "BRUNO MIRANDA\n"
     ]
    }
   ],
   "source": [
    "name = 'Bruno Miranda'\n",
    "print(name)\n",
    "\n",
    "name_capital = capital(text=name)\n",
    "print(name_capital)"
   ]
  },
  {
   "cell_type": "code",
   "execution_count": 40,
   "metadata": {},
   "outputs": [],
   "source": [
    "def extract_email_provider_user(email: str) -> (str, str):\n",
    "    sep_email = email.split(sep='@')\n",
    "    user = sep_email[0]\n",
    "    provider = sep_email[1]\n",
    "    return user, provider"
   ]
  },
  {
   "cell_type": "code",
   "execution_count": 41,
   "metadata": {},
   "outputs": [
    {
     "name": "stdout",
     "output_type": "stream",
     "text": [
      "brunomiranda.data\n",
      "gmail.com\n"
     ]
    }
   ],
   "source": [
    "email = 'brunomiranda.data@gmail.com'\n",
    "user, provider = extract_email_provider_user(email=email)\n",
    "print(user)\n",
    "print(provider)"
   ]
  },
  {
   "attachments": {},
   "cell_type": "markdown",
   "metadata": {},
   "source": [
    "### Parameters"
   ]
  },
  {
   "attachments": {},
   "cell_type": "markdown",
   "metadata": {},
   "source": [
    "Parameters are the values that we pass when calling the function."
   ]
  },
  {
   "attachments": {},
   "cell_type": "markdown",
   "metadata": {},
   "source": [
    "- Function without parameters:"
   ]
  },
  {
   "cell_type": "code",
   "execution_count": 42,
   "metadata": {},
   "outputs": [],
   "source": [
    "def pi() -> float:\n",
    "    return 3.14159265359"
   ]
  },
  {
   "cell_type": "code",
   "execution_count": 43,
   "metadata": {},
   "outputs": [
    {
     "name": "stdout",
     "output_type": "stream",
     "text": [
      "3.14159265359\n"
     ]
    }
   ],
   "source": [
    "pi = pi()\n",
    "print(pi)"
   ]
  },
  {
   "cell_type": "code",
   "execution_count": 44,
   "metadata": {},
   "outputs": [],
   "source": [
    "def print_pi() -> None:\n",
    "    print(3.14159265359)\n",
    "    return None"
   ]
  },
  {
   "cell_type": "code",
   "execution_count": 45,
   "metadata": {},
   "outputs": [
    {
     "name": "stdout",
     "output_type": "stream",
     "text": [
      "3.14159265359\n"
     ]
    }
   ],
   "source": [
    "print_pi()"
   ]
  },
  {
   "attachments": {},
   "cell_type": "markdown",
   "metadata": {},
   "source": [
    "- Function with parameter:"
   ]
  },
  {
   "cell_type": "code",
   "execution_count": 46,
   "metadata": {},
   "outputs": [],
   "source": [
    "def write_csv_file(name: str, header: str, content: list) -> bool:\n",
    "    try:\n",
    "\n",
    "        with open(file=name, mode='w', encoding='utf8') as fp:\n",
    "            line = header + '\\n'\n",
    "            fp.write(line)\n",
    "            for content in contents:\n",
    "                line = str(content) + '\\n'\n",
    "                fp.write(line)\n",
    "\n",
    "    except Exception as exc:\n",
    "\n",
    "        print(exc)\n",
    "        return False\n",
    "    \n",
    "    return True"
   ]
  },
  {
   "cell_type": "code",
   "execution_count": 47,
   "metadata": {},
   "outputs": [
    {
     "name": "stdout",
     "output_type": "stream",
     "text": [
      "True\n"
     ]
    }
   ],
   "source": [
    "name = 'age-funcion.csv'\n",
    "header = 'age'\n",
    "contents = [30, 33, 35, 30, 59, 35, 36, 39, 41, 43]\n",
    "\n",
    "wrote_successfully = write_csv_file(name=name, header=header, content=content)\n",
    "print(wrote_successfully)"
   ]
  },
  {
   "attachments": {},
   "cell_type": "markdown",
   "metadata": {},
   "source": [
    "### Scope"
   ]
  },
  {
   "attachments": {},
   "cell_type": "markdown",
   "metadata": {},
   "source": [
    "Defines the life cycle of a variable"
   ]
  },
  {
   "attachments": {},
   "cell_type": "markdown",
   "metadata": {},
   "source": [
    "- Scope of function"
   ]
  },
  {
   "cell_type": "code",
   "execution_count": 48,
   "metadata": {},
   "outputs": [],
   "source": [
    "def sum_list(numbers: list) -> int:\n",
    "    s = 0\n",
    "    for number in numbers:\n",
    "        s = s + number\n",
    "    return s"
   ]
  },
  {
   "cell_type": "code",
   "execution_count": 49,
   "metadata": {},
   "outputs": [
    {
     "name": "stdout",
     "output_type": "stream",
     "text": [
      "40\n"
     ]
    }
   ],
   "source": [
    "sum = sum_list(numbers = [2] * 20)\n",
    "print(sum)"
   ]
  },
  {
   "cell_type": "code",
   "execution_count": 50,
   "metadata": {},
   "outputs": [
    {
     "ename": "NameError",
     "evalue": "name 's' is not defined",
     "output_type": "error",
     "traceback": [
      "\u001b[0;31m---------------------------------------------------------------------------\u001b[0m",
      "\u001b[0;31mNameError\u001b[0m                                 Traceback (most recent call last)",
      "Cell \u001b[0;32mIn[50], line 1\u001b[0m\n\u001b[0;32m----> 1\u001b[0m \u001b[39mprint\u001b[39m(s)\n",
      "\u001b[0;31mNameError\u001b[0m: name 's' is not defined"
     ]
    }
   ],
   "source": [
    "print(s)"
   ]
  },
  {
   "attachments": {},
   "cell_type": "markdown",
   "metadata": {},
   "source": [
    "- Conditional/repeat structure scope."
   ]
  },
  {
   "cell_type": "code",
   "execution_count": null,
   "metadata": {},
   "outputs": [
    {
     "name": "stdout",
     "output_type": "stream",
     "text": [
      "100\n"
     ]
    }
   ],
   "source": [
    "if True:\n",
    "    x = 100\n",
    "else:\n",
    "    w = 50\n",
    "\n",
    "print(x)"
   ]
  },
  {
   "attachments": {},
   "cell_type": "markdown",
   "metadata": {},
   "source": [
    "### Motivation"
   ]
  },
  {
   "attachments": {},
   "cell_type": "markdown",
   "metadata": {},
   "source": [
    "You work on the stock market and need to simulate the return on an investment for different scenarios:"
   ]
  },
  {
   "cell_type": "code",
   "execution_count": null,
   "metadata": {},
   "outputs": [
    {
     "name": "stdout",
     "output_type": "stream",
     "text": [
      "For a initial value of R$ 1000.0 and an annual interest rate of 0.05, in 10 years you will have 1628.89\n",
      "For an initial value of R$ 1020.0 and an annual interest rate 0.03, in 10 years you will have R$ 1370.79\n"
     ]
    }
   ],
   "source": [
    "initial_value, annual_interest_rate, years = 1000.00, 0.05, 10\n",
    "\n",
    "final_value = initial_value\n",
    "for year in range(1, years+1):\n",
    "    final_value = final_value * (1 + annual_interest_rate)\n",
    "final_value = round(final_value, 2)\n",
    "print(f'For a initial value of R$ {initial_value} and an annual interest rate of {annual_interest_rate}, in {years} years you will have {final_value}')\n",
    "\n",
    "initial_value, annual_interest_rate, years = 1020.00, 0.03, 10\n",
    "\n",
    "final_value = initial_value\n",
    "for year in range(1, years+1):\n",
    "    final_value = final_value * (1 + annual_interest_rate)\n",
    "final_value = round(final_value, 2)\n",
    "print(f'For an initial value of R$ {initial_value} and an annual interest rate {annual_interest_rate}, in {years} years you will have R$ {final_value}')"
   ]
  },
  {
   "attachments": {},
   "cell_type": "markdown",
   "metadata": {},
   "source": [
    "How can we reuse the code above and avoid repetitions?"
   ]
  },
  {
   "cell_type": "code",
   "execution_count": 51,
   "metadata": {},
   "outputs": [
    {
     "name": "stdout",
     "output_type": "stream",
     "text": [
      "For an initial value of R$ 1000.0 and an annual interest rate of 0.05, in 10 years will have R$ 1628.89\n",
      "For an initial value of R$ 1030.0 and an annual interest rate of 0.03, in 10 years will have R$ 1384.23\n"
     ]
    }
   ],
   "source": [
    "# we define a functions called annual_compound_interest\n",
    "# the variables become the parameters of this function\n",
    "def annual_compound_interest(initial_value: float, annual_interest_rate: float, years: int) -> float:\n",
    "  final_value = initial_value\n",
    "  for year in range(1, years+1):\n",
    "    final_value = final_value * (1 + annual_interest_rate)\n",
    "  final_value = round(final_value, 2)\n",
    "  print(f'For an initial value of R$ {initial_value} and an annual interest rate of {annual_interest_rate}, in {years} years will have R$ {final_value}') \n",
    "  return final_value\n",
    "\n",
    "initial_value, annual_interest_rate, years = 1000.00, 0.05, 10\n",
    "final_value = annual_compound_interest(initial_value=initial_value, annual_interest_rate=annual_interest_rate, years=years)\n",
    "\n",
    "initial_value, annual_interest_rate, years = 1030.00, 0.03, 10\n",
    "final_value = annual_compound_interest(initial_value=initial_value, annual_interest_rate=annual_interest_rate, years=years)"
   ]
  },
  {
   "cell_type": "code",
   "execution_count": null,
   "metadata": {},
   "outputs": [],
   "source": []
  }
 ],
 "metadata": {
  "kernelspec": {
   "display_name": "base",
   "language": "python",
   "name": "python3"
  },
  "language_info": {
   "codemirror_mode": {
    "name": "ipython",
    "version": 3
   },
   "file_extension": ".py",
   "mimetype": "text/x-python",
   "name": "python",
   "nbconvert_exporter": "python",
   "pygments_lexer": "ipython3",
   "version": "3.10.9"
  },
  "orig_nbformat": 4
 },
 "nbformat": 4,
 "nbformat_minor": 2
}
