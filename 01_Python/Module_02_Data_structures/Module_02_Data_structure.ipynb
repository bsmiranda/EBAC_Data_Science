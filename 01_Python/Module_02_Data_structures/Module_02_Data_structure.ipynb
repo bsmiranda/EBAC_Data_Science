{
 "cells": [
  {
   "attachments": {},
   "cell_type": "markdown",
   "metadata": {},
   "source": [
    "# **Modulo 02** | Python: Data structure"
   ]
  },
  {
   "attachments": {},
   "cell_type": "markdown",
   "metadata": {},
   "source": [
    "# Topics"
   ]
  },
  {
   "attachments": {},
   "cell_type": "markdown",
   "metadata": {},
   "source": [
    "- Lists;\n",
    "- Sets;\n",
    "- Dictionaries."
   ]
  },
  {
   "attachments": {},
   "cell_type": "markdown",
   "metadata": {},
   "source": [
    "# Lists"
   ]
  },
  {
   "attachments": {},
   "cell_type": "markdown",
   "metadata": {},
   "source": [
    "They store mutable and ordered of values. They are of the list type:"
   ]
  },
  {
   "cell_type": "code",
   "execution_count": 1,
   "metadata": {},
   "outputs": [
    {
     "name": "stdout",
     "output_type": "stream",
     "text": [
      "['Bruno Miranda', 'bunomiranda.data', 'bruno123', 'brunomiranda.data@gmail.com']\n",
      "<class 'list'>\n"
     ]
    }
   ],
   "source": [
    "web_user = [\n",
    "    'Bruno Miranda',\n",
    "    'bunomiranda.data',\n",
    "    'bruno123',\n",
    "    'brunomiranda.data@gmail.com'\n",
    "]\n",
    "\n",
    "print(web_user)\n",
    "print(type(web_user))"
   ]
  },
  {
   "cell_type": "code",
   "execution_count": 2,
   "metadata": {},
   "outputs": [
    {
     "name": "stdout",
     "output_type": "stream",
     "text": [
      "['Bruno Miranda', 30, 'brunomiranda.data', 'bruno123', 'brunomiranda.data@gmail.com', 829.5, True]\n",
      "<class 'list'>\n"
     ]
    }
   ],
   "source": [
    "age = 30\n",
    "account_balance = 829.50\n",
    "user_loggedin = True\n",
    "\n",
    "web_user = [\n",
    "    'Bruno Miranda',\n",
    "    age,\n",
    "    'brunomiranda.data',\n",
    "    'bruno123',\n",
    "    'brunomiranda.data@gmail.com',\n",
    "    account_balance,\n",
    "    user_loggedin\n",
    "]\n",
    "\n",
    "print(web_user)\n",
    "print(type(web_user))"
   ]
  },
  {
   "attachments": {},
   "cell_type": "markdown",
   "metadata": {},
   "source": [
    "## Operations"
   ]
  },
  {
   "attachments": {},
   "cell_type": "markdown",
   "metadata": {},
   "source": [
    "The operations of the list type structure are concatenation."
   ]
  },
  {
   "attachments": {},
   "cell_type": "markdown",
   "metadata": {},
   "source": [
    "**Exemplo**: mobile hardware manufacturers."
   ]
  },
  {
   "cell_type": "code",
   "execution_count": 3,
   "metadata": {},
   "outputs": [
    {
     "name": "stdout",
     "output_type": "stream",
     "text": [
      "['xiaomi', 'huawei']\n",
      "['apple', 'motorola']\n",
      "['xiaomi', 'huawei', 'apple', 'motorola']\n"
     ]
    }
   ],
   "source": [
    "manufacturers_mobilie_china = ['xiaomi', 'huawei']\n",
    "manufacturers_mobile_usa = ['apple', 'motorola']\n",
    "manufacturers_mobile = manufacturers_mobilie_china + manufacturers_mobile_usa # concatenating the two lists\n",
    "\n",
    "print(manufacturers_mobilie_china)\n",
    "print(manufacturers_mobile_usa)\n",
    "print(manufacturers_mobile)"
   ]
  },
  {
   "attachments": {},
   "cell_type": "markdown",
   "metadata": {},
   "source": [
    "Slicing operation."
   ]
  },
  {
   "cell_type": "code",
   "execution_count": 4,
   "metadata": {},
   "outputs": [
    {
     "name": "stdout",
     "output_type": "stream",
     "text": [
      "['xiaomi', 'huawei', 'apple', 'motorola']\n",
      "0: xiaomi\n",
      "-1: motorola\n"
     ]
    }
   ],
   "source": [
    "# fixed slicing\n",
    "print(manufacturers_mobile)\n",
    "print(f'0: {manufacturers_mobile[0]}') # first element\n",
    "print(f'-1: {manufacturers_mobile[-1]}') # second element"
   ]
  },
  {
   "attachments": {},
   "cell_type": "markdown",
   "metadata": {},
   "source": [
    "Interval slicing."
   ]
  },
  {
   "cell_type": "code",
   "execution_count": 5,
   "metadata": {},
   "outputs": [
    {
     "name": "stdout",
     "output_type": "stream",
     "text": [
      "China: ['xiaomi', 'huawei']\n",
      "EUA: ['apple', 'motorola']\n"
     ]
    }
   ],
   "source": [
    "manufacturers_mobile_china = manufacturers_mobile[0:2]\n",
    "manufacturers_mobile_usa = manufacturers_mobile[2:len(manufacturers_mobile)]\n",
    "\n",
    "print('China: ' + str(manufacturers_mobile_china))\n",
    "print('EUA: ' + str(manufacturers_mobile_usa))"
   ]
  },
  {
   "attachments": {},
   "cell_type": "markdown",
   "metadata": {},
   "source": [
    "Adding elements to a specific position in the list:"
   ]
  },
  {
   "cell_type": "code",
   "execution_count": 6,
   "metadata": {},
   "outputs": [
    {
     "name": "stdout",
     "output_type": "stream",
     "text": [
      "['xiaomi', 'huawei', 'apple', 'motorola']\n"
     ]
    }
   ],
   "source": [
    "print(manufacturers_mobile)"
   ]
  },
  {
   "cell_type": "code",
   "execution_count": 7,
   "metadata": {},
   "outputs": [
    {
     "name": "stdout",
     "output_type": "stream",
     "text": [
      "['xiaomi', 'huawei', 'nokia', 'motorola']\n"
     ]
    }
   ],
   "source": [
    "manufacturers_mobile[2] = 'nokia'\n",
    "print(manufacturers_mobile)"
   ]
  },
  {
   "attachments": {},
   "cell_type": "markdown",
   "metadata": {},
   "source": [
    "## Methods"
   ]
  },
  {
   "attachments": {},
   "cell_type": "markdown",
   "metadata": {},
   "source": [
    "Native Python methods that help us work with lists:"
   ]
  },
  {
   "cell_type": "code",
   "execution_count": 8,
   "metadata": {},
   "outputs": [
    {
     "name": "stdout",
     "output_type": "stream",
     "text": [
      "[0.05, 0.07, 0.02, 0.04, 0.08]\n"
     ]
    }
   ],
   "source": [
    "fees = [0.05, 0.07, 0.02, 0.04, 0.08]\n",
    "print(fees)"
   ]
  },
  {
   "cell_type": "code",
   "execution_count": 9,
   "metadata": {},
   "outputs": [
    {
     "name": "stdout",
     "output_type": "stream",
     "text": [
      "[0.1, 0.05, 0.07, 0.02, 0.04, 0.08]\n"
     ]
    }
   ],
   "source": [
    "# insert an element into the list without replacing: list.insert(index, val)\n",
    "fees.insert(0, 0.10)\n",
    "print(fees)"
   ]
  },
  {
   "cell_type": "code",
   "execution_count": 10,
   "metadata": {},
   "outputs": [
    {
     "name": "stdout",
     "output_type": "stream",
     "text": [
      "[0.1, 0.05, 0.07, 0.02, 0.04, 0.08, 0.09]\n"
     ]
    }
   ],
   "source": [
    "# insert an element at the end of the list: list.append(val)\n",
    "fees.append(0.09)\n",
    "print(fees)"
   ]
  },
  {
   "cell_type": "code",
   "execution_count": 11,
   "metadata": {},
   "outputs": [
    {
     "name": "stdout",
     "output_type": "stream",
     "text": [
      "[0.1, 0.05, 0.07, 0.02, 0.04, 0.08]\n"
     ]
    }
   ],
   "source": [
    "# remove an element by value: list.remove(val)\n",
    "fees.remove(0.09)\n",
    "print(fees)"
   ]
  },
  {
   "cell_type": "code",
   "execution_count": 12,
   "metadata": {},
   "outputs": [
    {
     "name": "stdout",
     "output_type": "stream",
     "text": [
      "0.05\n"
     ]
    }
   ],
   "source": [
    "# remove an element by index: list.pop(val)\n",
    "second_fees = fees.pop(1)\n",
    "print(second_fees) # retorna o valor que foi removido"
   ]
  },
  {
   "cell_type": "code",
   "execution_count": 13,
   "metadata": {},
   "outputs": [
    {
     "name": "stdout",
     "output_type": "stream",
     "text": [
      "[0.1, 0.07, 0.02, 0.04, 0.08]\n"
     ]
    }
   ],
   "source": [
    "print(fees)"
   ]
  },
  {
   "attachments": {},
   "cell_type": "markdown",
   "metadata": {},
   "source": [
    "## Conversion"
   ]
  },
  {
   "attachments": {},
   "cell_type": "markdown",
   "metadata": {},
   "source": [
    "Converting some types of variables into lists, with strings:"
   ]
  },
  {
   "cell_type": "code",
   "execution_count": 14,
   "metadata": {},
   "outputs": [
    {
     "name": "stdout",
     "output_type": "stream",
     "text": [
      "brunomiranda.data@gmail.com\n",
      "<class 'str'>\n",
      "['b', 'r', 'u', 'n', 'o', 'm', 'i', 'r', 'a', 'n', 'd', 'a', '.', 'd', 'a', 't', 'a', '@', 'g', 'm', 'a', 'i', 'l', '.', 'c', 'o', 'm']\n",
      "<class 'list'>\n"
     ]
    }
   ],
   "source": [
    "email = 'brunomiranda.data@gmail.com'\n",
    "character_email = list(email)\n",
    "\n",
    "print(email)\n",
    "print(type(email))\n",
    "print(character_email)\n",
    "print(type(character_email))"
   ]
  },
  {
   "attachments": {},
   "cell_type": "markdown",
   "metadata": {},
   "source": [
    "## Motivation"
   ]
  },
  {
   "attachments": {},
   "cell_type": "markdown",
   "metadata": {},
   "source": [
    "Your bank's app records all your financial transactions. At the end of the day, the app consolidates the final balance so you can control your financial life. Is there a better way to store the daily transactions below?"
   ]
  },
  {
   "cell_type": "code",
   "execution_count": 15,
   "metadata": {},
   "outputs": [
    {
     "name": "stdout",
     "output_type": "stream",
     "text": [
      "416.54999999999995\n"
     ]
    }
   ],
   "source": [
    "day_11_initial_balance = 1000\n",
    "\n",
    "day_11_transaction_1 = 300\n",
    "day_11_transaction_2 = -250\n",
    "day_11_transaction_3 = 465.30\n",
    "day_11_transaction_4 = -98.75\n",
    "\n",
    "day_11_final_balance =  day_11_transaction_1 + \\\n",
    "                        day_11_transaction_2 + \\\n",
    "                        day_11_transaction_3 + \\\n",
    "                        day_11_transaction_4\n",
    "\n",
    "print(day_11_final_balance)"
   ]
  },
  {
   "cell_type": "code",
   "execution_count": 16,
   "metadata": {},
   "outputs": [
    {
     "name": "stdout",
     "output_type": "stream",
     "text": [
      "[300, -250, 465.3, -98.75]\n"
     ]
    }
   ],
   "source": [
    "# reworking the code in a more productive way\n",
    "day_11_initial_balance = 1000\n",
    "\n",
    "# creating an empty list to receive transactions\n",
    "day_11_transactions  =[]\n",
    "\n",
    "# Adding transactions with the append method\n",
    "day_11_transactions.append(300)\n",
    "day_11_transactions.append(-250)\n",
    "day_11_transactions.append(465.30)\n",
    "day_11_transactions.append(-98.75)\n",
    "\n",
    "print(day_11_transactions)"
   ]
  },
  {
   "cell_type": "code",
   "execution_count": 17,
   "metadata": {},
   "outputs": [
    {
     "name": "stdout",
     "output_type": "stream",
     "text": [
      "1416.55\n"
     ]
    }
   ],
   "source": [
    "day_11_final_balance = day_11_initial_balance + \\\n",
    "                       day_11_transactions[0] + \\\n",
    "                       day_11_transactions[1] + \\\n",
    "                       day_11_transactions[2] + \\\n",
    "                       day_11_transactions[3]\n",
    "\n",
    "print(day_11_final_balance)"
   ]
  },
  {
   "attachments": {},
   "cell_type": "markdown",
   "metadata": {},
   "source": [
    "# Sets"
   ]
  },
  {
   "attachments": {},
   "cell_type": "markdown",
   "metadata": {},
   "source": [
    "They store immutable and disordered sequences of values, without repetition."
   ]
  },
  {
   "cell_type": "code",
   "execution_count": 18,
   "metadata": {},
   "outputs": [
    {
     "name": "stdout",
     "output_type": "stream",
     "text": [
      "{'banana', 'grape', 'apple'}\n",
      "<class 'set'>\n"
     ]
    }
   ],
   "source": [
    "fruits = {'banana', 'apple', 'grape', 'grape'}\n",
    "\n",
    "print(fruits)\n",
    "print(type(fruits))"
   ]
  },
  {
   "attachments": {},
   "cell_type": "markdown",
   "metadata": {},
   "source": [
    "## Operations"
   ]
  },
  {
   "attachments": {},
   "cell_type": "markdown",
   "metadata": {},
   "source": [
    "The operations of the `set` type structure are:\n",
    "- -(difference)"
   ]
  },
  {
   "attachments": {},
   "cell_type": "markdown",
   "metadata": {},
   "source": [
    "**Example**: European countries"
   ]
  },
  {
   "cell_type": "code",
   "execution_count": 19,
   "metadata": {},
   "outputs": [],
   "source": [
    "northern_europe = {'United Kingdom', 'Sweden', 'Russia', 'Norway', 'Denmark'}\n",
    "scandinavia = {'Norway', 'Denmark', 'Sweden'}"
   ]
  },
  {
   "cell_type": "code",
   "execution_count": 20,
   "metadata": {},
   "outputs": [
    {
     "name": "stdout",
     "output_type": "stream",
     "text": [
      "{'United Kingdom', 'Russia'}\n"
     ]
    }
   ],
   "source": [
    "northern_europe_not_scandinavian = northern_europe - scandinavia\n",
    "print(northern_europe_not_scandinavian)"
   ]
  },
  {
   "cell_type": "code",
   "execution_count": 21,
   "metadata": {},
   "outputs": [
    {
     "name": "stdout",
     "output_type": "stream",
     "text": [
      "{'United Kingdom', 'Russia'}\n"
     ]
    }
   ],
   "source": [
    "scandinavian_not_northern_europe = northern_europe - scandinavia\n",
    "print(scandinavian_not_northern_europe)"
   ]
  },
  {
   "attachments": {},
   "cell_type": "markdown",
   "metadata": {},
   "source": [
    "## Methods"
   ]
  },
  {
   "attachments": {},
   "cell_type": "markdown",
   "metadata": {},
   "source": [
    "There are native Python methods that help us work withi sets on a daily basis."
   ]
  },
  {
   "cell_type": "code",
   "execution_count": 22,
   "metadata": {},
   "outputs": [
    {
     "name": "stdout",
     "output_type": "stream",
     "text": [
      "{'Exact Sciences', 'Human Sciences', 'Biological Sciences'}\n"
     ]
    }
   ],
   "source": [
    "courses = {'Exact Sciences', 'Human Sciences', 'Biological Sciences'}\n",
    "print(courses)"
   ]
  },
  {
   "cell_type": "code",
   "execution_count": 23,
   "metadata": {},
   "outputs": [
    {
     "name": "stdout",
     "output_type": "stream",
     "text": [
      "{'Exact Sciences', 'Human Sciences', 'Health Sciences', 'Biological Sciences'}\n"
     ]
    }
   ],
   "source": [
    "# insert an element into the set: set.add(val)\n",
    "courses.add('Health Sciences')\n",
    "print(courses)"
   ]
  },
  {
   "cell_type": "code",
   "execution_count": 24,
   "metadata": {},
   "outputs": [
    {
     "name": "stdout",
     "output_type": "stream",
     "text": [
      "{'Exact Sciences', 'Human Sciences', 'Biological Sciences'}\n"
     ]
    }
   ],
   "source": [
    "# remove an element in the set: set.remove(val)\n",
    "courses.remove('Health Sciences')\n",
    "print(courses)"
   ]
  },
  {
   "attachments": {},
   "cell_type": "markdown",
   "metadata": {},
   "source": [
    "## Conversion"
   ]
  },
  {
   "attachments": {},
   "cell_type": "markdown",
   "metadata": {},
   "source": [
    "We can convert `sets` to `list` and `list` to `sets`."
   ]
  },
  {
   "cell_type": "code",
   "execution_count": 25,
   "metadata": {},
   "outputs": [
    {
     "name": "stdout",
     "output_type": "stream",
     "text": [
      "{'Palmeiras', 'Santos', 'Corinthians', 'São Paulo'}\n",
      "<class 'set'>\n"
     ]
    }
   ],
   "source": [
    "soccer_teams = {'São Paulo', 'Palmeiras', 'Corinthians', 'Santos'}\n",
    "print(soccer_teams)\n",
    "print(type(soccer_teams))"
   ]
  },
  {
   "cell_type": "code",
   "execution_count": 26,
   "metadata": {},
   "outputs": [
    {
     "name": "stdout",
     "output_type": "stream",
     "text": [
      "['Palmeiras', 'Santos', 'Corinthians', 'São Paulo']\n",
      "<class 'list'>\n"
     ]
    }
   ],
   "source": [
    "print(list(soccer_teams))\n",
    "print(type(list(soccer_teams)))"
   ]
  },
  {
   "attachments": {},
   "cell_type": "markdown",
   "metadata": {},
   "source": [
    "## Motivation"
   ]
  },
  {
   "attachments": {},
   "cell_type": "markdown",
   "metadata": {},
   "source": [
    "Imagine that you work as a social media data analyst and need to discover all the *hashtags* that reached *top trending* on Twitter during a week. Have you already got the *hashtags* by day of the week:"
   ]
  },
  {
   "cell_type": "code",
   "execution_count": 27,
   "metadata": {},
   "outputs": [],
   "source": [
    "hashtags_mon = ['#tiago', '#joao', '#bbb']\n",
    "hashtags_tue = ['#sarah', '#bbb', '#fiuk']\n",
    "hashtags_wed = ['#gil', '#thelma', '#lourdes']\n",
    "hashtags_thu = ['#rafa', '#fora', '#danilo']\n",
    "hashtags_fri = ['#juliete', '#arthur', '#bbb']"
   ]
  },
  {
   "attachments": {},
   "cell_type": "markdown",
   "metadata": {},
   "source": [
    "A simple concatenation of `lists` will cause the *hashtag* #bbb, among others, to appear more than once."
   ]
  },
  {
   "cell_type": "code",
   "execution_count": 28,
   "metadata": {},
   "outputs": [
    {
     "name": "stdout",
     "output_type": "stream",
     "text": [
      "['#tiago', '#joao', '#bbb', '#sarah', '#bbb', '#fiuk', '#gil', '#thelma', '#lourdes', '#rafa', '#fora', '#danilo', '#juliete', '#arthur', '#bbb']\n"
     ]
    }
   ],
   "source": [
    "hashtags_week = hashtags_mon + hashtags_tue + hashtags_wed + hashtags_thu + hashtags_fri\n",
    "print(hashtags_week)"
   ]
  },
  {
   "cell_type": "code",
   "execution_count": 29,
   "metadata": {},
   "outputs": [
    {
     "name": "stdout",
     "output_type": "stream",
     "text": [
      "15\n"
     ]
    }
   ],
   "source": [
    "print(len(hashtags_week))"
   ]
  },
  {
   "cell_type": "code",
   "execution_count": 30,
   "metadata": {},
   "outputs": [
    {
     "name": "stdout",
     "output_type": "stream",
     "text": [
      "['#joao', '#bbb', '#juliete', '#fiuk', '#gil', '#thelma', '#lourdes', '#arthur', '#rafa', '#fora', '#danilo', '#sarah', '#tiago']\n",
      "13\n"
     ]
    }
   ],
   "source": [
    "hashtags_week = list(set(hashtags_mon + hashtags_tue + hashtags_wed + hashtags_thu + hashtags_fri))\n",
    "print(hashtags_week)\n",
    "print(len(hashtags_week))"
   ]
  },
  {
   "attachments": {},
   "cell_type": "markdown",
   "metadata": {},
   "source": [
    "# Dictionaries"
   ]
  },
  {
   "attachments": {},
   "cell_type": "markdown",
   "metadata": {},
   "source": [
    "Store sequences in key-value format. They are of type `dict`."
   ]
  },
  {
   "cell_type": "code",
   "execution_count": 31,
   "metadata": {},
   "outputs": [
    {
     "name": "stdout",
     "output_type": "stream",
     "text": [
      "{'capital': 'Brasilia', 'language': 'Portuguese', 'population': 210}\n",
      "<class 'dict'>\n"
     ]
    }
   ],
   "source": [
    "brazil = {'capital': 'Brasilia', 'language': 'Portuguese', 'population': 210}\n",
    "print(brazil)\n",
    "print(type(brazil))"
   ]
  },
  {
   "attachments": {},
   "cell_type": "markdown",
   "metadata": {},
   "source": [
    "Duplicate keys are not allowed."
   ]
  },
  {
   "cell_type": "code",
   "execution_count": 32,
   "metadata": {},
   "outputs": [
    {
     "name": "stdout",
     "output_type": "stream",
     "text": [
      "{'brand': 'Volkswagen', 'model': 'Polo', 'year': 20022}\n"
     ]
    }
   ],
   "source": [
    "car = {\n",
    "    'brand': 'Volkswagen',\n",
    "    'model': 'Polo',\n",
    "    'year': 2021,\n",
    "    'year': 20022\n",
    "}\n",
    "print(car)"
   ]
  },
  {
   "attachments": {},
   "cell_type": "markdown",
   "metadata": {},
   "source": [
    "We can create compound dictionaries."
   ]
  },
  {
   "cell_type": "code",
   "execution_count": 33,
   "metadata": {},
   "outputs": [
    {
     "name": "stdout",
     "output_type": "stream",
     "text": [
      "{'bruno': {'name': 'Bruno Miranda', 'birth_year': 1992, 'parents': {'father': {'name': '<name of father>', 'birth_year': 1971}, 'mother': {'name': '<name of mother>', 'birth_year': 1973}}}}\n"
     ]
    }
   ],
   "source": [
    "register = {\n",
    "    'bruno': {\n",
    "        'name': 'Bruno Miranda',\n",
    "        'birth_year': 1992,\n",
    "        'parents': {\n",
    "            'father': {\n",
    "                'name': '<name of father>',\n",
    "                'birth_year': 1971\n",
    "            },\n",
    "            'mother': {\n",
    "                'name': '<name of mother>',\n",
    "                'birth_year': 1973\n",
    "            },\n",
    "        }\n",
    "    }\n",
    "}\n",
    "print(register)"
   ]
  },
  {
   "cell_type": "code",
   "execution_count": 34,
   "metadata": {},
   "outputs": [
    {
     "data": {
      "text/plain": [
       "1973"
      ]
     },
     "execution_count": 34,
     "metadata": {},
     "output_type": "execute_result"
    }
   ],
   "source": [
    "# mother's year of birth\n",
    "register['bruno']['parents']['mother']['birth_year']"
   ]
  },
  {
   "attachments": {},
   "cell_type": "markdown",
   "metadata": {},
   "source": [
    "## Operations"
   ]
  },
  {
   "cell_type": "code",
   "execution_count": 35,
   "metadata": {},
   "outputs": [],
   "source": [
    "credit = {'123': 750, '789': 980}"
   ]
  },
  {
   "attachments": {},
   "cell_type": "markdown",
   "metadata": {},
   "source": [
    "Elements are accessed by key."
   ]
  },
  {
   "cell_type": "code",
   "execution_count": 36,
   "metadata": {},
   "outputs": [
    {
     "name": "stdout",
     "output_type": "stream",
     "text": [
      "750\n",
      "980\n"
     ]
    }
   ],
   "source": [
    "score_123 = credit['123']\n",
    "score_789 = credit['789']\n",
    "\n",
    "print(score_123)\n",
    "print(score_789)"
   ]
  },
  {
   "attachments": {},
   "cell_type": "markdown",
   "metadata": {},
   "source": [
    "Elements are updated by the key."
   ]
  },
  {
   "cell_type": "code",
   "execution_count": 37,
   "metadata": {},
   "outputs": [
    {
     "name": "stdout",
     "output_type": "stream",
     "text": [
      "{'123': 435, '789': 980}\n"
     ]
    }
   ],
   "source": [
    "credit['123'] = 435\n",
    "print(credit)"
   ]
  },
  {
   "attachments": {},
   "cell_type": "markdown",
   "metadata": {},
   "source": [
    "To add a new element, simply create a new key-value element:"
   ]
  },
  {
   "cell_type": "code",
   "execution_count": 38,
   "metadata": {},
   "outputs": [
    {
     "name": "stdout",
     "output_type": "stream",
     "text": [
      "{'123': 435, '789': 980, '456': 1000}\n"
     ]
    }
   ],
   "source": [
    "credit['456'] = 1000\n",
    "print(credit)"
   ]
  },
  {
   "attachments": {},
   "cell_type": "markdown",
   "metadata": {},
   "source": [
    "## Methods"
   ]
  },
  {
   "attachments": {},
   "cell_type": "markdown",
   "metadata": {},
   "source": [
    "These are native Python methods that help us work with dictionaries on a daily basis."
   ]
  },
  {
   "cell_type": "code",
   "execution_count": 39,
   "metadata": {},
   "outputs": [],
   "source": [
    "article = dict(\n",
    "    title = 'module 02 | Data Sctructure',\n",
    "    body = 'Topics, Classes, Lists, Sets, Dictionaries, ...',\n",
    "    total_characters = 1530\n",
    ")"
   ]
  },
  {
   "cell_type": "code",
   "execution_count": 40,
   "metadata": {},
   "outputs": [
    {
     "name": "stdout",
     "output_type": "stream",
     "text": [
      "{'title': 'module 02 | Data Sctructure', 'body': 'Topics, Classes, Lists, Sets, Dictionaries, ...', 'total_characters': 1530}\n",
      "{'title': 'module 02 | Data Sctructure', 'body': 'Topics, Classes, Lists, Sets, Dictionaries, ...', 'total_characters': 7600}\n"
     ]
    }
   ],
   "source": [
    "# add/update an element by key-value: dict.update(dict)\n",
    "print(article)\n",
    "article.update({'total_characters': 7600})\n",
    "print(article)\n",
    "\n",
    "article['total_characters'] = 7600"
   ]
  },
  {
   "cell_type": "code",
   "execution_count": 41,
   "metadata": {},
   "outputs": [
    {
     "name": "stdout",
     "output_type": "stream",
     "text": [
      "{'title': 'module 02 | Data Sctructure', 'body': 'Topics, Classes, Lists, Sets, Dictionaries, ...', 'total_characters': 7600}\n",
      "{'title': 'module 02 | Data Sctructure', 'body': 'Topics, Classes, Lists, Sets, Dictionaries, ...'}\n"
     ]
    }
   ],
   "source": [
    "# remove an element by key: dict.pop(key)\n",
    "print(article)\n",
    "total_characters = article.pop('total_characters')\n",
    "print(article)"
   ]
  },
  {
   "attachments": {},
   "cell_type": "markdown",
   "metadata": {},
   "source": [
    "## Conversion"
   ]
  },
  {
   "attachments": {},
   "cell_type": "markdown",
   "metadata": {},
   "source": [
    "We can convert the keys and items of a dictionary into a list."
   ]
  },
  {
   "cell_type": "code",
   "execution_count": 42,
   "metadata": {},
   "outputs": [],
   "source": [
    "article = dict(\n",
    "    title = 'module 02 | Data Sctructure',\n",
    "    body = 'Topics, Classes, Lists, Sets, Dictionaries, ...',\n",
    "    total_characters = 1530\n",
    ")"
   ]
  },
  {
   "cell_type": "code",
   "execution_count": 43,
   "metadata": {},
   "outputs": [
    {
     "name": "stdout",
     "output_type": "stream",
     "text": [
      "['title', 'body', 'total_characters']\n",
      "<class 'list'>\n"
     ]
    }
   ],
   "source": [
    "keys = list(article.keys())\n",
    "print(keys)\n",
    "print(type(keys))"
   ]
  },
  {
   "cell_type": "code",
   "execution_count": 44,
   "metadata": {},
   "outputs": [
    {
     "name": "stdout",
     "output_type": "stream",
     "text": [
      "['module 02 | Data Sctructure', 'Topics, Classes, Lists, Sets, Dictionaries, ...', 1530]\n",
      "<class 'list'>\n"
     ]
    }
   ],
   "source": [
    "values = list(article.values())\n",
    "print(values)\n",
    "print(type(values))"
   ]
  },
  {
   "attachments": {},
   "cell_type": "markdown",
   "metadata": {},
   "source": [
    "## Motivation"
   ]
  },
  {
   "attachments": {},
   "cell_type": "markdown",
   "metadata": {},
   "source": [
    "To connect to a Wi-Fi network, you need two pieces of information: the network name and the access password. When you go to access a new network, you will find a list of available networks:"
   ]
  },
  {
   "cell_type": "code",
   "execution_count": 45,
   "metadata": {},
   "outputs": [
    {
     "name": "stdout",
     "output_type": "stream",
     "text": [
      "['Network1', 'cnx_cnx', 'r3d3']\n"
     ]
    }
   ],
   "source": [
    "wifi_avaliable = ['Network1', 'cnx_cnx', 'r3d3']\n",
    "print(wifi_avaliable)"
   ]
  },
  {
   "attachments": {},
   "cell_type": "markdown",
   "metadata": {},
   "source": [
    "Can you identify the network names and their respective passwords? Perhaps a `list` is not the best option for storing this type of data."
   ]
  },
  {
   "cell_type": "code",
   "execution_count": 46,
   "metadata": {},
   "outputs": [],
   "source": [
    "# creating an empty list\n",
    "wifi_avaliable = []"
   ]
  },
  {
   "cell_type": "code",
   "execution_count": 47,
   "metadata": {},
   "outputs": [],
   "source": [
    "# network is a dictionary containing the network name and password \n",
    "network = {'name': 'Network1', 'password': 'cnx_cnx'}\n",
    "\n",
    "# adding the dictionary inside the empty list \n",
    "wifi_avaliable.append(network)"
   ]
  },
  {
   "cell_type": "code",
   "execution_count": 48,
   "metadata": {},
   "outputs": [],
   "source": [
    "# creating a new network\n",
    "network = {'name': 'Network2', 'password': 'r3d3'}\n",
    "\n",
    "wifi_avaliable.append(network)"
   ]
  },
  {
   "cell_type": "code",
   "execution_count": 49,
   "metadata": {},
   "outputs": [
    {
     "name": "stdout",
     "output_type": "stream",
     "text": [
      "[{'name': 'Network1', 'password': 'cnx_cnx'}, {'name': 'Network2', 'password': 'r3d3'}]\n"
     ]
    }
   ],
   "source": [
    "print(wifi_avaliable)"
   ]
  }
 ],
 "metadata": {
  "kernelspec": {
   "display_name": "base",
   "language": "python",
   "name": "python3"
  },
  "language_info": {
   "codemirror_mode": {
    "name": "ipython",
    "version": 3
   },
   "file_extension": ".py",
   "mimetype": "text/x-python",
   "name": "python",
   "nbconvert_exporter": "python",
   "pygments_lexer": "ipython3",
   "version": "3.11.4"
  },
  "orig_nbformat": 4
 },
 "nbformat": 4,
 "nbformat_minor": 2
}
