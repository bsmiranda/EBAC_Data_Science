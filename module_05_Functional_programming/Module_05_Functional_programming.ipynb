{
 "cells": [
  {
   "attachments": {},
   "cell_type": "markdown",
   "metadata": {},
   "source": [
    "# **Module 05** | Python: Functional Programming"
   ]
  },
  {
   "attachments": {},
   "cell_type": "markdown",
   "metadata": {},
   "source": [
    "# **Topics**\n",
    "\n",
    "<ol type=\"1\">\n",
    "  <li>Lambda function;</li>\n",
    "  <li>Map function;</li>\n",
    "  <li>Filter function;</li>\n",
    "  <li>Reduce function.</li>\n",
    "</ol>"
   ]
  },
  {
   "attachments": {},
   "cell_type": "markdown",
   "metadata": {},
   "source": [
    "## 1\\. Lambda function"
   ]
  },
  {
   "attachments": {},
   "cell_type": "markdown",
   "metadata": {},
   "source": [
    "### **1.1. Definition**"
   ]
  },
  {
   "attachments": {},
   "cell_type": "markdown",
   "metadata": {},
   "source": [
    "Anonymous function (without a name) with a super lean code block that can be saved in a variable. It is generally used with other functional methods such as `map`, `filter`, and `reduce`."
   ]
  },
  {
   "attachments": {},
   "cell_type": "markdown",
   "metadata": {},
   "source": [
    "```python\n",
    "variable = lambda params: expression\n",
    "```"
   ]
  },
  {
   "cell_type": "code",
   "execution_count": 1,
   "metadata": {},
   "outputs": [],
   "source": [
    "extract_provider_email = lambda email: email.split(sep='@')[-1]"
   ]
  },
  {
   "cell_type": "code",
   "execution_count": 2,
   "metadata": {},
   "outputs": [
    {
     "name": "stdout",
     "output_type": "stream",
     "text": [
      "brunomiranda.data@gmail.com\n",
      "gmail.com\n"
     ]
    }
   ],
   "source": [
    "email = 'brunomiranda.data@gmail.com'\n",
    "print(email)\n",
    "\n",
    "provider_email = extract_provider_email(email)\n",
    "print(provider_email)"
   ]
  },
  {
   "attachments": {},
   "cell_type": "markdown",
   "metadata": {},
   "source": [
    "**Example**: `lambda` function with conditional structures"
   ]
  },
  {
   "cell_type": "code",
   "execution_count": 3,
   "metadata": {},
   "outputs": [],
   "source": [
    "even_number = lambda number: True if number % 2 == 0 else False"
   ]
  },
  {
   "cell_type": "code",
   "execution_count": 4,
   "metadata": {},
   "outputs": [],
   "source": [
    "numbers = range(0, 11)"
   ]
  },
  {
   "cell_type": "code",
   "execution_count": 5,
   "metadata": {},
   "outputs": [
    {
     "name": "stdout",
     "output_type": "stream",
     "text": [
      "The number 0 is even!\n",
      "The number 2 is even!\n",
      "The number 4 is even!\n",
      "The number 6 is even!\n",
      "The number 8 is even!\n",
      "The number 10 is even!\n"
     ]
    }
   ],
   "source": [
    "for number in numbers:\n",
    "    if even_number(number) == True:\n",
    "        print(f'The number {number} is even!')"
   ]
  },
  {
   "attachments": {},
   "cell_type": "markdown",
   "metadata": {},
   "source": [
    "### **High order function**"
   ]
  },
  {
   "attachments": {},
   "cell_type": "markdown",
   "metadata": {},
   "source": [
    "These are functions that receive other functions as a parameter or return another function."
   ]
  },
  {
   "attachments": {},
   "cell_type": "markdown",
   "metadata": {},
   "source": [
    "**Example**: Dynamic compound interest"
   ]
  },
  {
   "attachments": {},
   "cell_type": "markdown",
   "metadata": {},
   "source": [
    "- Definition"
   ]
  },
  {
   "cell_type": "code",
   "execution_count": 6,
   "metadata": {},
   "outputs": [],
   "source": [
    "def turn_back(fees: float):\n",
    "    return lambda investment: investment * (1 + fees)"
   ]
  },
  {
   "attachments": {},
   "cell_type": "markdown",
   "metadata": {},
   "source": [
    "- Instanciation"
   ]
  },
  {
   "cell_type": "code",
   "execution_count": 7,
   "metadata": {},
   "outputs": [],
   "source": [
    "return_5_percent = turn_back(fees=0.05)\n",
    "return_10_percent = turn_back(fees=0.10)"
   ]
  },
  {
   "cell_type": "code",
   "execution_count": 8,
   "metadata": {},
   "outputs": [
    {
     "name": "stdout",
     "output_type": "stream",
     "text": [
      "1050.0\n"
     ]
    }
   ],
   "source": [
    "final_value = return_5_percent(investment=1000)\n",
    "print(final_value)"
   ]
  },
  {
   "cell_type": "code",
   "execution_count": 9,
   "metadata": {},
   "outputs": [
    {
     "name": "stdout",
     "output_type": "stream",
     "text": [
      "1100.0\n"
     ]
    }
   ],
   "source": [
    "final_value = return_10_percent(investment=1000)\n",
    "print(final_value)"
   ]
  },
  {
   "attachments": {},
   "cell_type": "markdown",
   "metadata": {},
   "source": [
    "- Use"
   ]
  },
  {
   "cell_type": "code",
   "execution_count": 10,
   "metadata": {},
   "outputs": [
    {
     "name": "stdout",
     "output_type": "stream",
     "text": [
      "1628.89\n"
     ]
    }
   ],
   "source": [
    "years = 10\n",
    "initial_value = 1000\n",
    "final_value = initial_value\n",
    "\n",
    "for year in range(1, years+1):\n",
    "    final_value = return_5_percent(investment=final_value)\n",
    "\n",
    "final_value = round(final_value, 2)\n",
    "print(final_value)"
   ]
  },
  {
   "cell_type": "code",
   "execution_count": 11,
   "metadata": {},
   "outputs": [
    {
     "name": "stdout",
     "output_type": "stream",
     "text": [
      "2593.74\n"
     ]
    }
   ],
   "source": [
    "years = 10\n",
    "initial_value = 1000\n",
    "final_value = initial_value\n",
    "\n",
    "for year in range(1, years+1):\n",
    "    final_value = return_10_percent(investment=final_value)\n",
    "\n",
    "final_value = round(final_value, 2)\n",
    "print(final_value)"
   ]
  },
  {
   "cell_type": "code",
   "execution_count": null,
   "metadata": {},
   "outputs": [],
   "source": []
  }
 ],
 "metadata": {
  "kernelspec": {
   "display_name": "Projects",
   "language": "python",
   "name": "python3"
  },
  "language_info": {
   "codemirror_mode": {
    "name": "ipython",
    "version": 3
   },
   "file_extension": ".py",
   "mimetype": "text/x-python",
   "name": "python",
   "nbconvert_exporter": "python",
   "pygments_lexer": "ipython3",
   "version": "3.10.11"
  },
  "orig_nbformat": 4
 },
 "nbformat": 4,
 "nbformat_minor": 2
}
