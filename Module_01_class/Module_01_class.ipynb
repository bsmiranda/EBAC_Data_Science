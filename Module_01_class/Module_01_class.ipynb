{
 "cells": [
  {
   "attachments": {},
   "cell_type": "markdown",
   "metadata": {},
   "source": [
    "# **Module 01** | Python: Variables and Data Types"
   ]
  },
  {
   "attachments": {},
   "cell_type": "markdown",
   "metadata": {},
   "source": [
    "## **Tópicos**\n",
    "<ol type=\"1\">\n",
    "  <li>Variables;</li>\n",
    "  <li>Numbers;</li>\n",
    "  <li><i>Strings;</i></li>\n",
    "  <li>Booleans.</li>\n",
    "</ol>"
   ]
  },
  {
   "attachments": {},
   "cell_type": "markdown",
   "metadata": {},
   "source": [
    "## 1\\. Variables"
   ]
  },
  {
   "cell_type": "code",
   "execution_count": 1,
   "metadata": {},
   "outputs": [
    {
     "name": "stdout",
     "output_type": "stream",
     "text": [
      "31\n",
      "27\n",
      "Bruno\n"
     ]
    }
   ],
   "source": [
    "age = 31\n",
    "print(age)\n",
    "\n",
    "age = 27\n",
    "print(age)\n",
    "\n",
    "name = 'Bruno'\n",
    "print(name)"
   ]
  },
  {
   "attachments": {},
   "cell_type": "markdown",
   "metadata": {},
   "source": [
    "### Native types"
   ]
  },
  {
   "attachments": {},
   "cell_type": "markdown",
   "metadata": {},
   "source": [
    "**Numerical types:** integers (`int`) and decimals (`float`):"
   ]
  },
  {
   "cell_type": "code",
   "execution_count": 2,
   "metadata": {},
   "outputs": [
    {
     "name": "stdout",
     "output_type": "stream",
     "text": [
      "800\n",
      "<class 'int'>\n",
      "0.05\n",
      "<class 'float'>\n"
     ]
    }
   ],
   "source": [
    "price = 800\n",
    "type_price = type(price)\n",
    "\n",
    "print(price)\n",
    "print(type(price))\n",
    "\n",
    "fees = 0.05\n",
    "type_fees = type(fees)\n",
    "\n",
    "print(fees)\n",
    "print(type(fees))"
   ]
  },
  {
   "attachments": {},
   "cell_type": "markdown",
   "metadata": {},
   "source": [
    "**Text types:** strings (`str`):"
   ]
  },
  {
   "cell_type": "code",
   "execution_count": 3,
   "metadata": {},
   "outputs": [
    {
     "name": "stdout",
     "output_type": "stream",
     "text": [
      "Bruno\n",
      "<class 'str'>\n",
      "Brazil\n",
      "<class 'str'>\n"
     ]
    }
   ],
   "source": [
    "first_name = \"Bruno\"\n",
    "\n",
    "print(first_name)\n",
    "print(type(first_name))\n",
    "\n",
    "country = 'Brazil'\n",
    "\n",
    "print(country)\n",
    "print(type(country))"
   ]
  },
  {
   "attachments": {},
   "cell_type": "markdown",
   "metadata": {},
   "source": [
    "**Logical type:** booleans (`bool`)"
   ]
  },
  {
   "cell_type": "code",
   "execution_count": 4,
   "metadata": {},
   "outputs": [
    {
     "name": "stdout",
     "output_type": "stream",
     "text": [
      "True\n",
      "<class 'bool'>\n"
     ]
    }
   ],
   "source": [
    "user_of_legal_age = True\n",
    "\n",
    "print(user_of_legal_age)\n",
    "print(type(user_of_legal_age))"
   ]
  },
  {
   "attachments": {},
   "cell_type": "markdown",
   "metadata": {},
   "source": [
    "**Empty type:** (`noneType`)"
   ]
  },
  {
   "cell_type": "code",
   "execution_count": 5,
   "metadata": {},
   "outputs": [
    {
     "name": "stdout",
     "output_type": "stream",
     "text": [
      "None\n",
      "<class 'NoneType'>\n"
     ]
    }
   ],
   "source": [
    "phone_number = None\n",
    "\n",
    "print(phone_number)\n",
    "print(type(phone_number))"
   ]
  },
  {
   "attachments": {},
   "cell_type": "markdown",
   "metadata": {},
   "source": [
    "## 2\\. Numbers"
   ]
  },
  {
   "cell_type": "code",
   "execution_count": 6,
   "metadata": {},
   "outputs": [
    {
     "name": "stdout",
     "output_type": "stream",
     "text": [
      "<class 'int'>\n",
      "<class 'float'>\n",
      "<class 'complex'>\n"
     ]
    }
   ],
   "source": [
    "print(type(50))\n",
    "print(type(16.5))\n",
    "print(type(1 + 2j))"
   ]
  },
  {
   "attachments": {},
   "cell_type": "markdown",
   "metadata": {},
   "source": [
    "### Operations"
   ]
  },
  {
   "attachments": {},
   "cell_type": "markdown",
   "metadata": {},
   "source": [
    "The operations of numerical types are the four fundamental mathematical operations:\n",
    "\n",
    "*   `+` (addition);\n",
    "*   `-` (subtraction);\n",
    "*   `*` (multiplication);\n",
    "*   `/` (division).\n",
    "\n",
    "In addition to more advanced operations:\n",
    "\n",
    "*   `//` (integer division)\n",
    "*   `**` (exponenciation);\n",
    "*   `%` (remainder of division)."
   ]
  },
  {
   "attachments": {},
   "cell_type": "markdown",
   "metadata": {},
   "source": [
    "**Example:** Shopping cart of an e-commerce."
   ]
  },
  {
   "cell_type": "code",
   "execution_count": 7,
   "metadata": {},
   "outputs": [
    {
     "name": "stdout",
     "output_type": "stream",
     "text": [
      "1\n",
      "2\n"
     ]
    }
   ],
   "source": [
    "shopping_cart = 0\n",
    "\n",
    "shopping_cart = shopping_cart + 1\n",
    "print(shopping_cart)\n",
    "\n",
    "shopping_cart = shopping_cart + 1\n",
    "print(shopping_cart)"
   ]
  },
  {
   "cell_type": "code",
   "execution_count": 8,
   "metadata": {},
   "outputs": [
    {
     "name": "stdout",
     "output_type": "stream",
     "text": [
      "1\n",
      "2\n"
     ]
    }
   ],
   "source": [
    "# Another way to do the same code as above\n",
    "\n",
    "shopping_cart = 0\n",
    "\n",
    "shopping_cart += 1\n",
    "print(shopping_cart)\n",
    "\n",
    "shopping_cart += 1\n",
    "print(shopping_cart)"
   ]
  },
  {
   "attachments": {},
   "cell_type": "markdown",
   "metadata": {},
   "source": [
    "**Example:** Total payable for a product."
   ]
  },
  {
   "cell_type": "code",
   "execution_count": 9,
   "metadata": {},
   "outputs": [
    {
     "name": "stdout",
     "output_type": "stream",
     "text": [
      "12.5\n"
     ]
    }
   ],
   "source": [
    "price = 50\n",
    "amount = 0.250\n",
    "\n",
    "total_payable = amount * price\n",
    "print(total_payable)"
   ]
  },
  {
   "cell_type": "code",
   "execution_count": 10,
   "metadata": {},
   "outputs": [
    {
     "name": "stdout",
     "output_type": "stream",
     "text": [
      "5.0\n",
      "<class 'float'>\n",
      "5\n",
      "<class 'int'>\n"
     ]
    }
   ],
   "source": [
    "a = 10\n",
    "b = 2\n",
    "\n",
    "c = a / b\n",
    "print(c)\n",
    "print(type(c))\n",
    "\n",
    "d = a // b\n",
    "print(d)\n",
    "print(type(b))"
   ]
  },
  {
   "attachments": {},
   "cell_type": "markdown",
   "metadata": {},
   "source": [
    "### Type convertion"
   ]
  },
  {
   "attachments": {},
   "cell_type": "markdown",
   "metadata": {},
   "source": [
    "We can convert numeric types to each other using the native method `int`, `float` and `complete`:"
   ]
  },
  {
   "cell_type": "code",
   "execution_count": 11,
   "metadata": {},
   "outputs": [
    {
     "name": "stdout",
     "output_type": "stream",
     "text": [
      "2\n"
     ]
    }
   ],
   "source": [
    "print(int(2.6))"
   ]
  },
  {
   "cell_type": "code",
   "execution_count": 12,
   "metadata": {},
   "outputs": [
    {
     "name": "stdout",
     "output_type": "stream",
     "text": [
      "50.0\n"
     ]
    }
   ],
   "source": [
    "print(float(50))"
   ]
  },
  {
   "cell_type": "code",
   "execution_count": 13,
   "metadata": {},
   "outputs": [
    {
     "name": "stdout",
     "output_type": "stream",
     "text": [
      "(1+0j)\n"
     ]
    }
   ],
   "source": [
    "print(complex(1))"
   ]
  },
  {
   "attachments": {},
   "cell_type": "markdown",
   "metadata": {},
   "source": [
    "**Motivation:** Average ticket calculation"
   ]
  },
  {
   "attachments": {},
   "cell_type": "markdown",
   "metadata": {},
   "source": [
    "| Day   | Total Sales Value  | Total Sales Quantity | Average ticket |\n",
    "|-------|--------------------|------------------|-|\n",
    "| 19/01 | 153.98             | 3                |?|\n",
    "| 20/01 | 337.01             | 7                |?|\n",
    "| 23/01 | 295.33             | 5                |?|"
   ]
  },
  {
   "cell_type": "code",
   "execution_count": 14,
   "metadata": {},
   "outputs": [
    {
     "name": "stdout",
     "output_type": "stream",
     "text": [
      "51.32666666666666\n"
     ]
    }
   ],
   "source": [
    "# Average daily ticket on 01/19\n",
    "\n",
    "tsv_19 = 153.98\n",
    "tsq_19 = 3\n",
    "\n",
    "atk_19 = tsv_19 / tsq_19\n",
    "print(atk_19)"
   ]
  },
  {
   "cell_type": "code",
   "execution_count": 15,
   "metadata": {},
   "outputs": [
    {
     "name": "stdout",
     "output_type": "stream",
     "text": [
      "48.144285714285715\n"
     ]
    }
   ],
   "source": [
    "# Average daily ticket on 01/20\n",
    "\n",
    "tsv_20 = 337.01\n",
    "tsq_20 = 7\n",
    "\n",
    "atk_20 = tsv_20 / tsq_20\n",
    "print(atk_20)"
   ]
  },
  {
   "cell_type": "code",
   "execution_count": 16,
   "metadata": {},
   "outputs": [
    {
     "name": "stdout",
     "output_type": "stream",
     "text": [
      "59.065999999999995\n"
     ]
    }
   ],
   "source": [
    "# Average daily ticket on 01/23\n",
    "\n",
    "tsv_23 = 295.33\n",
    "tsq_23 = 5\n",
    "\n",
    "atk_23 = tsv_23 / tsq_23\n",
    "print(atk_23)"
   ]
  },
  {
   "cell_type": "code",
   "execution_count": 18,
   "metadata": {},
   "outputs": [
    {
     "name": "stdout",
     "output_type": "stream",
     "text": [
      "52.8456507936508\n"
     ]
    }
   ],
   "source": [
    "# Average ticket\n",
    "\n",
    "atk_total = (atk_19 + atk_20 + atk_23) / 3\n",
    "print(atk_total)"
   ]
  },
  {
   "attachments": {},
   "cell_type": "markdown",
   "metadata": {},
   "source": [
    "## 3\\. Strings"
   ]
  },
  {
   "cell_type": "code",
   "execution_count": 1,
   "metadata": {},
   "outputs": [
    {
     "name": "stdout",
     "output_type": "stream",
     "text": [
      "Class 04, Module 01, Strings\n",
      "<class 'str'>\n"
     ]
    }
   ],
   "source": [
    "class_name = 'Class 04, Module 01, Strings'\n",
    "\n",
    "print(class_name)\n",
    "print(type(class_name))"
   ]
  },
  {
   "cell_type": "code",
   "execution_count": 3,
   "metadata": {},
   "outputs": [
    {
     "name": "stdout",
     "output_type": "stream",
     "text": [
      "\n",
      "<class 'str'>\n"
     ]
    }
   ],
   "source": [
    "empty_string = ''\n",
    "print(empty_string)\n",
    "print(type(empty_string))"
   ]
  },
  {
   "attachments": {},
   "cell_type": "markdown",
   "metadata": {},
   "source": [
    "### Operations"
   ]
  },
  {
   "attachments": {},
   "cell_type": "markdown",
   "metadata": {},
   "source": [
    "Operations on variables of type string are concatenation (+)."
   ]
  },
  {
   "cell_type": "code",
   "execution_count": 11,
   "metadata": {},
   "outputs": [
    {
     "name": "stdout",
     "output_type": "stream",
     "text": [
      "Hello, my name is Bruno Silva Miranda.\n"
     ]
    }
   ],
   "source": [
    "name = 'Bruno Silva'\n",
    "surname = 'Miranda'\n",
    "\n",
    "presentation = 'Hello, my name is ' + name + ' ' + surname + '.'\n",
    "print(presentation)"
   ]
  },
  {
   "attachments": {},
   "cell_type": "markdown",
   "metadata": {},
   "source": [
    "Concatenating strings with formatting operations:"
   ]
  },
  {
   "cell_type": "code",
   "execution_count": 13,
   "metadata": {},
   "outputs": [
    {
     "name": "stdout",
     "output_type": "stream",
     "text": [
      "Hello, my name is Bruno Silva Miranda\n"
     ]
    }
   ],
   "source": [
    "name = 'Bruno Silva'\n",
    "surname = 'Miranda'\n",
    "\n",
    "presentation = f'Hello, my name is {name} {surname}'\n",
    "print(presentation)"
   ]
  },
  {
   "attachments": {},
   "cell_type": "markdown",
   "metadata": {},
   "source": [
    "Slicing operation:"
   ]
  },
  {
   "cell_type": "code",
   "execution_count": 16,
   "metadata": {},
   "outputs": [
    {
     "name": "stdout",
     "output_type": "stream",
     "text": [
      "0: b\n",
      "17\" @\n"
     ]
    }
   ],
   "source": [
    "email = 'brunomiranda.data@gmail.com'\n",
    "\n",
    "print('0: ' +email[0]) # returns letter b\n",
    "print('17\" ' +email[17]) # returns @"
   ]
  },
  {
   "cell_type": "code",
   "execution_count": 19,
   "metadata": {},
   "outputs": [
    {
     "name": "stdout",
     "output_type": "stream",
     "text": [
      "-1: m\n",
      "-2: o\n"
     ]
    }
   ],
   "source": [
    "print('-1: ' +email[-1]) # returns m\n",
    "print('-2: ' +email[-2]) # returns o"
   ]
  },
  {
   "cell_type": "code",
   "execution_count": 29,
   "metadata": {},
   "outputs": [
    {
     "name": "stdout",
     "output_type": "stream",
     "text": [
      "brunomiranda.data\n"
     ]
    }
   ],
   "source": [
    "user_email = email[0:17]\n",
    "print(user_email)"
   ]
  },
  {
   "cell_type": "code",
   "execution_count": 30,
   "metadata": {},
   "outputs": [
    {
     "name": "stdout",
     "output_type": "stream",
     "text": [
      "gmail.com\n"
     ]
    }
   ],
   "source": [
    "provider_email = email[18:]\n",
    "print(provider_email)"
   ]
  },
  {
   "attachments": {},
   "cell_type": "markdown",
   "metadata": {},
   "source": [
    "### Methods"
   ]
  },
  {
   "cell_type": "code",
   "execution_count": 31,
   "metadata": {},
   "outputs": [],
   "source": [
    "addres = 'Avenida Paulista, 1811, São Paulo, São Paulo, Brasil.'"
   ]
  },
  {
   "cell_type": "code",
   "execution_count": 32,
   "metadata": {},
   "outputs": [
    {
     "name": "stdout",
     "output_type": "stream",
     "text": [
      "AVENIDA PAULISTA, 1811, SÃO PAULO, SÃO PAULO, BRASIL.\n"
     ]
    }
   ],
   "source": [
    "# string.upper()\n",
    "print(addres.upper())"
   ]
  },
  {
   "cell_type": "code",
   "execution_count": 33,
   "metadata": {},
   "outputs": [
    {
     "name": "stdout",
     "output_type": "stream",
     "text": [
      "46\n"
     ]
    }
   ],
   "source": [
    "# string.find(substring)\n",
    "position = addres.find('Brasil')\n",
    "print(position)"
   ]
  },
  {
   "cell_type": "code",
   "execution_count": 34,
   "metadata": {},
   "outputs": [
    {
     "name": "stdout",
     "output_type": "stream",
     "text": [
      "Av Paulista, 1811, São Paulo, São Paulo, Brasil.\n"
     ]
    }
   ],
   "source": [
    "# string.replace(Old, new)\n",
    "print(addres.replace('Avenida', 'Av'))"
   ]
  },
  {
   "attachments": {},
   "cell_type": "markdown",
   "metadata": {},
   "source": [
    "### Conversion"
   ]
  },
  {
   "cell_type": "code",
   "execution_count": 36,
   "metadata": {},
   "outputs": [
    {
     "name": "stdout",
     "output_type": "stream",
     "text": [
      "<class 'int'>\n",
      "<class 'str'>\n"
     ]
    }
   ],
   "source": [
    "# Converting numeric types to string\n",
    "age = 20\n",
    "print(type(age))\n",
    "\n",
    "age = str(age)\n",
    "print(type(age))"
   ]
  },
  {
   "cell_type": "code",
   "execution_count": 39,
   "metadata": {},
   "outputs": [
    {
     "name": "stdout",
     "output_type": "stream",
     "text": [
      "R$ 56 mi\n",
      "<class 'str'>\n",
      "56\n",
      "<class 'int'>\n"
     ]
    }
   ],
   "source": [
    "# Converting string to numeric types\n",
    "\n",
    "billing = 'R$ 56 mi'\n",
    "print(billing)\n",
    "print(type(billing))\n",
    "\n",
    "billing = int(billing[3:5])\n",
    "print(billing)\n",
    "print(type(billing))"
   ]
  },
  {
   "attachments": {},
   "cell_type": "markdown",
   "metadata": {},
   "source": [
    "### Motivation"
   ]
  },
  {
   "attachments": {},
   "cell_type": "markdown",
   "metadata": {},
   "source": [
    "The company you work for acquired a logistics *startup*. You need to identify all addresses that are common to both. In your company, you store the latitude and longitude of the addresses in two variables `lat` and `lon`, whereas the *startup* acquired in a single variable `latlon`."
   ]
  },
  {
   "cell_type": "code",
   "execution_count": 40,
   "metadata": {},
   "outputs": [],
   "source": [
    "# your company\n",
    "lat = '-22.005320'\n",
    "lon = '-47.891040'\n",
    "\n",
    "# startup\n",
    "latlon = '-22.005320;-47.891040'"
   ]
  },
  {
   "attachments": {},
   "cell_type": "markdown",
   "metadata": {},
   "source": [
    "How can we normalize the way latitudes and longitudes are stored so they can be compared?"
   ]
  },
  {
   "cell_type": "code",
   "execution_count": 43,
   "metadata": {},
   "outputs": [
    {
     "name": "stdout",
     "output_type": "stream",
     "text": [
      "10\n"
     ]
    }
   ],
   "source": [
    "# finding character position ';'\n",
    "\n",
    "position_char_division = latlon.find(';')\n",
    "print(position_char_division)"
   ]
  },
  {
   "cell_type": "code",
   "execution_count": 45,
   "metadata": {},
   "outputs": [
    {
     "name": "stdout",
     "output_type": "stream",
     "text": [
      "-22.005320\n"
     ]
    }
   ],
   "source": [
    "# extracting latitude\n",
    "\n",
    "lat_startup = latlon[0:position_char_division]\n",
    "print(lat_startup)"
   ]
  },
  {
   "cell_type": "code",
   "execution_count": 48,
   "metadata": {},
   "outputs": [
    {
     "name": "stdout",
     "output_type": "stream",
     "text": [
      "-47.891040\n"
     ]
    }
   ],
   "source": [
    "# extracting longitude\n",
    "\n",
    "lon_startup = latlon[position_char_division+1:len(latlon)]\n",
    "print(lon_startup)"
   ]
  },
  {
   "cell_type": "code",
   "execution_count": null,
   "metadata": {},
   "outputs": [],
   "source": []
  }
 ],
 "metadata": {
  "kernelspec": {
   "display_name": "base",
   "language": "python",
   "name": "python3"
  },
  "language_info": {
   "codemirror_mode": {
    "name": "ipython",
    "version": 3
   },
   "file_extension": ".py",
   "mimetype": "text/x-python",
   "name": "python",
   "nbconvert_exporter": "python",
   "pygments_lexer": "ipython3",
   "version": "3.10.9"
  },
  "orig_nbformat": 4
 },
 "nbformat": 4,
 "nbformat_minor": 2
}
