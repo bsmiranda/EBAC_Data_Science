{
 "cells": [
  {
   "attachments": {},
   "cell_type": "markdown",
   "metadata": {},
   "source": [
    "# **Modulo 02** | Python: Data structure"
   ]
  },
  {
   "attachments": {},
   "cell_type": "markdown",
   "metadata": {},
   "source": [
    "# Topics"
   ]
  },
  {
   "attachments": {},
   "cell_type": "markdown",
   "metadata": {},
   "source": [
    "- Lists;\n",
    "- Sets;\n",
    "- Dictionaries."
   ]
  },
  {
   "attachments": {},
   "cell_type": "markdown",
   "metadata": {},
   "source": [
    "# Lists"
   ]
  },
  {
   "attachments": {},
   "cell_type": "markdown",
   "metadata": {},
   "source": [
    "They store mutable and ordered of values. They are of the list type:"
   ]
  },
  {
   "cell_type": "code",
   "execution_count": 1,
   "metadata": {},
   "outputs": [
    {
     "name": "stdout",
     "output_type": "stream",
     "text": [
      "['Bruno Miranda', 'bunomiranda.data', 'bruno123', 'brunomiranda.data@gmail.com']\n",
      "<class 'list'>\n"
     ]
    }
   ],
   "source": [
    "web_user = [\n",
    "    'Bruno Miranda',\n",
    "    'bunomiranda.data',\n",
    "    'bruno123',\n",
    "    'brunomiranda.data@gmail.com'\n",
    "]\n",
    "\n",
    "print(web_user)\n",
    "print(type(web_user))"
   ]
  },
  {
   "cell_type": "code",
   "execution_count": 2,
   "metadata": {},
   "outputs": [
    {
     "name": "stdout",
     "output_type": "stream",
     "text": [
      "['Bruno Miranda', 30, 'brunomiranda.data', 'bruno123', 'brunomiranda.data@gmail.com', 829.5, True]\n",
      "<class 'list'>\n"
     ]
    }
   ],
   "source": [
    "age = 30\n",
    "account_balance = 829.50\n",
    "user_loggedin = True\n",
    "\n",
    "web_user = [\n",
    "    'Bruno Miranda',\n",
    "    age,\n",
    "    'brunomiranda.data',\n",
    "    'bruno123',\n",
    "    'brunomiranda.data@gmail.com',\n",
    "    account_balance,\n",
    "    user_loggedin\n",
    "]\n",
    "\n",
    "print(web_user)\n",
    "print(type(web_user))"
   ]
  },
  {
   "attachments": {},
   "cell_type": "markdown",
   "metadata": {},
   "source": [
    "## Operations"
   ]
  },
  {
   "attachments": {},
   "cell_type": "markdown",
   "metadata": {},
   "source": [
    "The operations of the list type structure are concatenation."
   ]
  },
  {
   "attachments": {},
   "cell_type": "markdown",
   "metadata": {},
   "source": [
    "**Exemplo**: mobile hardware manufacturers."
   ]
  },
  {
   "cell_type": "code",
   "execution_count": 3,
   "metadata": {},
   "outputs": [
    {
     "name": "stdout",
     "output_type": "stream",
     "text": [
      "['xiaomi', 'huawei']\n",
      "['apple', 'motorola']\n",
      "['xiaomi', 'huawei', 'apple', 'motorola']\n"
     ]
    }
   ],
   "source": [
    "manufacturers_mobilie_china = ['xiaomi', 'huawei']\n",
    "manufacturers_mobile_usa = ['apple', 'motorola']\n",
    "manufacturers_mobile = manufacturers_mobilie_china + manufacturers_mobile_usa # concatenating the two lists\n",
    "\n",
    "print(manufacturers_mobilie_china)\n",
    "print(manufacturers_mobile_usa)\n",
    "print(manufacturers_mobile)"
   ]
  },
  {
   "attachments": {},
   "cell_type": "markdown",
   "metadata": {},
   "source": [
    "Slicing operation."
   ]
  },
  {
   "cell_type": "code",
   "execution_count": 4,
   "metadata": {},
   "outputs": [
    {
     "name": "stdout",
     "output_type": "stream",
     "text": [
      "['xiaomi', 'huawei', 'apple', 'motorola']\n",
      "0: xiaomi\n",
      "-1: motorola\n"
     ]
    }
   ],
   "source": [
    "# fixed slicing\n",
    "print(manufacturers_mobile)\n",
    "print(f'0: {manufacturers_mobile[0]}') # first element\n",
    "print(f'-1: {manufacturers_mobile[-1]}') # second element"
   ]
  },
  {
   "attachments": {},
   "cell_type": "markdown",
   "metadata": {},
   "source": [
    "Interval slicing."
   ]
  },
  {
   "cell_type": "code",
   "execution_count": 5,
   "metadata": {},
   "outputs": [
    {
     "name": "stdout",
     "output_type": "stream",
     "text": [
      "China: ['xiaomi', 'huawei']\n",
      "EUA: ['apple', 'motorola']\n"
     ]
    }
   ],
   "source": [
    "manufacturers_mobile_china = manufacturers_mobile[0:2]\n",
    "manufacturers_mobile_usa = manufacturers_mobile[2:len(manufacturers_mobile)]\n",
    "\n",
    "print('China: ' + str(manufacturers_mobile_china))\n",
    "print('EUA: ' + str(manufacturers_mobile_usa))"
   ]
  },
  {
   "attachments": {},
   "cell_type": "markdown",
   "metadata": {},
   "source": [
    "Adding elements to a specific position in the list:"
   ]
  },
  {
   "cell_type": "code",
   "execution_count": 6,
   "metadata": {},
   "outputs": [
    {
     "name": "stdout",
     "output_type": "stream",
     "text": [
      "['xiaomi', 'huawei', 'apple', 'motorola']\n"
     ]
    }
   ],
   "source": [
    "print(manufacturers_mobile)"
   ]
  },
  {
   "cell_type": "code",
   "execution_count": 7,
   "metadata": {},
   "outputs": [
    {
     "name": "stdout",
     "output_type": "stream",
     "text": [
      "['xiaomi', 'huawei', 'nokia', 'motorola']\n"
     ]
    }
   ],
   "source": [
    "manufacturers_mobile[2] = 'nokia'\n",
    "print(manufacturers_mobile)"
   ]
  },
  {
   "attachments": {},
   "cell_type": "markdown",
   "metadata": {},
   "source": [
    "## Methods"
   ]
  },
  {
   "attachments": {},
   "cell_type": "markdown",
   "metadata": {},
   "source": [
    "Native Python methods that help us work with lists:"
   ]
  },
  {
   "cell_type": "code",
   "execution_count": 8,
   "metadata": {},
   "outputs": [
    {
     "name": "stdout",
     "output_type": "stream",
     "text": [
      "[0.05, 0.07, 0.02, 0.04, 0.08]\n"
     ]
    }
   ],
   "source": [
    "fees = [0.05, 0.07, 0.02, 0.04, 0.08]\n",
    "print(fees)"
   ]
  },
  {
   "cell_type": "code",
   "execution_count": 9,
   "metadata": {},
   "outputs": [
    {
     "name": "stdout",
     "output_type": "stream",
     "text": [
      "[0.1, 0.05, 0.07, 0.02, 0.04, 0.08]\n"
     ]
    }
   ],
   "source": [
    "# insert an element into the list without replacing: list.insert(index, val)\n",
    "fees.insert(0, 0.10)\n",
    "print(fees)"
   ]
  },
  {
   "cell_type": "code",
   "execution_count": 10,
   "metadata": {},
   "outputs": [
    {
     "name": "stdout",
     "output_type": "stream",
     "text": [
      "[0.1, 0.05, 0.07, 0.02, 0.04, 0.08, 0.09]\n"
     ]
    }
   ],
   "source": [
    "# insert an element at the end of the list: list.append(val)\n",
    "fees.append(0.09)\n",
    "print(fees)"
   ]
  },
  {
   "cell_type": "code",
   "execution_count": 11,
   "metadata": {},
   "outputs": [
    {
     "name": "stdout",
     "output_type": "stream",
     "text": [
      "[0.1, 0.05, 0.07, 0.02, 0.04, 0.08]\n"
     ]
    }
   ],
   "source": [
    "# remove an element by value: list.remove(val)\n",
    "fees.remove(0.09)\n",
    "print(fees)"
   ]
  },
  {
   "cell_type": "code",
   "execution_count": 12,
   "metadata": {},
   "outputs": [
    {
     "name": "stdout",
     "output_type": "stream",
     "text": [
      "0.05\n"
     ]
    }
   ],
   "source": [
    "# remove an element by index: list.pop(val)\n",
    "second_fees = fees.pop(1)\n",
    "print(second_fees) # retorna o valor que foi removido"
   ]
  },
  {
   "cell_type": "code",
   "execution_count": 13,
   "metadata": {},
   "outputs": [
    {
     "name": "stdout",
     "output_type": "stream",
     "text": [
      "[0.1, 0.07, 0.02, 0.04, 0.08]\n"
     ]
    }
   ],
   "source": [
    "print(fees)"
   ]
  },
  {
   "attachments": {},
   "cell_type": "markdown",
   "metadata": {},
   "source": [
    "## Conversion"
   ]
  },
  {
   "attachments": {},
   "cell_type": "markdown",
   "metadata": {},
   "source": [
    "Converting some types of variables into lists, with strings:"
   ]
  },
  {
   "cell_type": "code",
   "execution_count": 14,
   "metadata": {},
   "outputs": [
    {
     "name": "stdout",
     "output_type": "stream",
     "text": [
      "brunomiranda.data@gmail.com\n",
      "<class 'str'>\n",
      "['b', 'r', 'u', 'n', 'o', 'm', 'i', 'r', 'a', 'n', 'd', 'a', '.', 'd', 'a', 't', 'a', '@', 'g', 'm', 'a', 'i', 'l', '.', 'c', 'o', 'm']\n",
      "<class 'list'>\n"
     ]
    }
   ],
   "source": [
    "email = 'brunomiranda.data@gmail.com'\n",
    "character_email = list(email)\n",
    "\n",
    "print(email)\n",
    "print(type(email))\n",
    "print(character_email)\n",
    "print(type(character_email))"
   ]
  },
  {
   "attachments": {},
   "cell_type": "markdown",
   "metadata": {},
   "source": [
    "## Motivation"
   ]
  },
  {
   "attachments": {},
   "cell_type": "markdown",
   "metadata": {},
   "source": [
    "Your bank's app records all your financial transactions. At the end of the day, the app consolidates the final balance so you can control your financial life. Is there a better way to store the daily transactions below?"
   ]
  },
  {
   "cell_type": "code",
   "execution_count": 15,
   "metadata": {},
   "outputs": [
    {
     "name": "stdout",
     "output_type": "stream",
     "text": [
      "416.54999999999995\n"
     ]
    }
   ],
   "source": [
    "day_11_initial_balance = 1000\n",
    "\n",
    "day_11_transaction_1 = 300\n",
    "day_11_transaction_2 = -250\n",
    "day_11_transaction_3 = 465.30\n",
    "day_11_transaction_4 = -98.75\n",
    "\n",
    "day_11_final_balance =  day_11_transaction_1 + \\\n",
    "                        day_11_transaction_2 + \\\n",
    "                        day_11_transaction_3 + \\\n",
    "                        day_11_transaction_4\n",
    "\n",
    "print(day_11_final_balance)"
   ]
  },
  {
   "cell_type": "code",
   "execution_count": 16,
   "metadata": {},
   "outputs": [
    {
     "name": "stdout",
     "output_type": "stream",
     "text": [
      "[300, -250, 465.3, -98.75]\n"
     ]
    }
   ],
   "source": [
    "# reworking the code in a more productive way\n",
    "day_11_initial_balance = 1000\n",
    "\n",
    "# creating an empty list to receive transactions\n",
    "day_11_transactions  =[]\n",
    "\n",
    "# Adding transactions with the append method\n",
    "day_11_transactions.append(300)\n",
    "day_11_transactions.append(-250)\n",
    "day_11_transactions.append(465.30)\n",
    "day_11_transactions.append(-98.75)\n",
    "\n",
    "print(day_11_transactions)"
   ]
  },
  {
   "cell_type": "code",
   "execution_count": 17,
   "metadata": {},
   "outputs": [
    {
     "name": "stdout",
     "output_type": "stream",
     "text": [
      "1416.55\n"
     ]
    }
   ],
   "source": [
    "day_11_final_balance = day_11_initial_balance + \\\n",
    "                       day_11_transactions[0] + \\\n",
    "                       day_11_transactions[1] + \\\n",
    "                       day_11_transactions[2] + \\\n",
    "                       day_11_transactions[3]\n",
    "\n",
    "print(day_11_final_balance)"
   ]
  },
  {
   "cell_type": "code",
   "execution_count": null,
   "metadata": {},
   "outputs": [],
   "source": []
  }
 ],
 "metadata": {
  "kernelspec": {
   "display_name": "base",
   "language": "python",
   "name": "python3"
  },
  "language_info": {
   "codemirror_mode": {
    "name": "ipython",
    "version": 3
   },
   "file_extension": ".py",
   "mimetype": "text/x-python",
   "name": "python",
   "nbconvert_exporter": "python",
   "pygments_lexer": "ipython3",
   "version": "3.10.9"
  },
  "orig_nbformat": 4
 },
 "nbformat": 4,
 "nbformat_minor": 2
}
