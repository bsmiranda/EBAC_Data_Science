{
 "cells": [
  {
   "attachments": {},
   "cell_type": "markdown",
   "metadata": {},
   "source": [
    "# **Module 04** | Python: Files and Functions"
   ]
  },
  {
   "attachments": {},
   "cell_type": "markdown",
   "metadata": {},
   "source": [
    "## **Topics**\n",
    "\n",
    "<ol type=\"1\">\n",
    "  <li>Reading;</li>\n",
    "  <li>Writing;</li>\n",
    "  <li>Functions;</li>\n",
    "  <li>Scope.</li>\n",
    "</ol>"
   ]
  },
  {
   "attachments": {},
   "cell_type": "markdown",
   "metadata": {},
   "source": [
    "## Leitura"
   ]
  },
  {
   "attachments": {},
   "cell_type": "markdown",
   "metadata": {},
   "source": [
    "Criando o arquivo banco.csv"
   ]
  },
  {
   "cell_type": "code",
   "execution_count": 70,
   "metadata": {},
   "outputs": [
    {
     "name": "stdout",
     "output_type": "stream",
     "text": [
      "Writing banco.csv\n"
     ]
    }
   ],
   "source": [
    "%%writefile banco.csv\n",
    "age,job,marital,education,default,balance,housing,loan\n",
    "30,unemployed,married,primary,no,1787,no,no\n",
    "33,services,married,secondary,no,4789,yes,yes\n",
    "35,management,single,tertiary,no,1350,yes,no\n",
    "30,management,married,tertiary,no,1476,yes,yes\n",
    "59,blue-collar,married,secondary,no,0,yes,no\n",
    "35,management,single,tertiary,no,747,no,no\n",
    "36,self-employed,married,tertiary,no,307,yes,no\n",
    "39,technician,married,secondary,no,147,yes,no\n",
    "41,entrepreneur,married,tertiary,no,221,yes,no\n",
    "43,services,married,primary,no,-88,yes,yes"
   ]
  },
  {
   "attachments": {},
   "cell_type": "markdown",
   "metadata": {},
   "source": [
    "### with / open"
   ]
  },
  {
   "attachments": {},
   "cell_type": "markdown",
   "metadata": {},
   "source": [
    "Comando para ler arquivos.\n",
    "\n",
    "```python\n",
    "with open(file='<file path>', mode='<reading mode>', encoding='<decoder>') as <surname>:\n",
    "    code block\n",
    "```"
   ]
  },
  {
   "attachments": {},
   "cell_type": "markdown",
   "metadata": {},
   "source": [
    "Os modos de leitura são:\n",
    "* **r**: ABre o arquivo para leitura (padrão)"
   ]
  },
  {
   "attachments": {},
   "cell_type": "markdown",
   "metadata": {},
   "source": [
    "### read"
   ]
  },
  {
   "attachments": {},
   "cell_type": "markdown",
   "metadata": {},
   "source": [
    "Comando para ler todo o conteúdo de um arquivo."
   ]
  },
  {
   "cell_type": "code",
   "execution_count": 71,
   "metadata": {},
   "outputs": [
    {
     "name": "stdout",
     "output_type": "stream",
     "text": [
      "age,job,marital,education,default,balance,housing,loan\n",
      "30,unemployed,married,primary,no,1787,no,no\n",
      "33,services,married,secondary,no,4789,yes,yes\n",
      "35,management,single,tertiary,no,1350,yes,no\n",
      "30,management,married,tertiary,no,1476,yes,yes\n",
      "59,blue-collar,married,secondary,no,0,yes,no\n",
      "35,management,single,tertiary,no,747,no,no\n",
      "36,self-employed,married,tertiary,no,307,yes,no\n",
      "39,technician,married,secondary,no,147,yes,no\n",
      "41,entrepreneur,married,tertiary,no,221,yes,no\n",
      "43,services,married,primary,no,-88,yes,yes\n",
      "\n"
     ]
    }
   ],
   "source": [
    "content = None\n",
    "\n",
    "with open(file='./banco.csv', mode='r', encoding='utf8') as archive:\n",
    "    content = archive.read()\n",
    "\n",
    "print(content)"
   ]
  },
  {
   "attachments": {},
   "cell_type": "markdown",
   "metadata": {},
   "source": [
    "### readline"
   ]
  },
  {
   "attachments": {},
   "cell_type": "markdown",
   "metadata": {},
   "source": [
    "Comando para ler o conteúdo de um arquivo uma linha por vez."
   ]
  },
  {
   "cell_type": "code",
   "execution_count": 72,
   "metadata": {},
   "outputs": [
    {
     "name": "stdout",
     "output_type": "stream",
     "text": [
      "['age,job,marital,education,default,balance,housing,loan\\n', '30,unemployed,married,primary,no,1787,no,no\\n', '33,services,married,secondary,no,4789,yes,yes\\n', '35,management,single,tertiary,no,1350,yes,no\\n', '30,management,married,tertiary,no,1476,yes,yes\\n', '59,blue-collar,married,secondary,no,0,yes,no\\n', '35,management,single,tertiary,no,747,no,no\\n', '36,self-employed,married,tertiary,no,307,yes,no\\n', '39,technician,married,secondary,no,147,yes,no\\n', '41,entrepreneur,married,tertiary,no,221,yes,no\\n', '43,services,married,primary,no,-88,yes,yes\\n']\n"
     ]
    }
   ],
   "source": [
    "content = []\n",
    "\n",
    "with open(file='./banco.csv', mode='r', encoding='utf8') as archive:\n",
    "    line = archive.readline()\n",
    "    while line:\n",
    "        content.append(line)\n",
    "        line = archive.readline()\n",
    "\n",
    "print(content)"
   ]
  },
  {
   "cell_type": "code",
   "execution_count": 73,
   "metadata": {},
   "outputs": [
    {
     "name": "stdout",
     "output_type": "stream",
     "text": [
      "age,job,marital,education,default,balance,housing,loan\n",
      "\n",
      "30,unemployed,married,primary,no,1787,no,no\n",
      "\n",
      "33,services,married,secondary,no,4789,yes,yes\n",
      "\n",
      "35,management,single,tertiary,no,1350,yes,no\n",
      "\n",
      "30,management,married,tertiary,no,1476,yes,yes\n",
      "\n",
      "59,blue-collar,married,secondary,no,0,yes,no\n",
      "\n",
      "35,management,single,tertiary,no,747,no,no\n",
      "\n",
      "36,self-employed,married,tertiary,no,307,yes,no\n",
      "\n",
      "39,technician,married,secondary,no,147,yes,no\n",
      "\n",
      "41,entrepreneur,married,tertiary,no,221,yes,no\n",
      "\n",
      "43,services,married,primary,no,-88,yes,yes\n",
      "\n"
     ]
    }
   ],
   "source": [
    "for line in content:\n",
    "    print(line)"
   ]
  },
  {
   "attachments": {},
   "cell_type": "markdown",
   "metadata": {},
   "source": [
    "**Exemplo**: Extraindo os valores da primeira coliuna (idade)"
   ]
  },
  {
   "cell_type": "code",
   "execution_count": 75,
   "metadata": {},
   "outputs": [
    {
     "name": "stdout",
     "output_type": "stream",
     "text": [
      "[30, 33, 35, 30, 59, 35, 36, 39, 41, 43]\n"
     ]
    }
   ],
   "source": [
    "ages = []\n",
    "\n",
    "with open(file='./banco.csv', mode='r', encoding='utf8') as archive:\n",
    "  line = archive.readline() # lê o cabeçalho\n",
    "  line = archive.readline() # lê a primeira linha\n",
    "  while line:\n",
    "    sep_line = line.split(sep=',') # quebra a string nas virgulas e salva os resultados em uma lista\n",
    "    age = sep_line[0] # seleciona o primeiro elemento da lista\n",
    "    age = int(age) # converte o valor de string para integer (inteiro)\n",
    "    ages.append(age) # salva o valor na lista de idades\n",
    "    line = archive.readline() # lê uma nova linha, se a linha não existir, salva o valor None\n",
    "\n",
    "print(ages)"
   ]
  },
  {
   "attachments": {},
   "cell_type": "markdown",
   "metadata": {},
   "source": [
    "## Escrita"
   ]
  },
  {
   "cell_type": "code",
   "execution_count": null,
   "metadata": {},
   "outputs": [],
   "source": []
  }
 ],
 "metadata": {
  "kernelspec": {
   "display_name": "base",
   "language": "python",
   "name": "python3"
  },
  "language_info": {
   "codemirror_mode": {
    "name": "ipython",
    "version": 3
   },
   "file_extension": ".py",
   "mimetype": "text/x-python",
   "name": "python",
   "nbconvert_exporter": "python",
   "pygments_lexer": "ipython3",
   "version": "3.10.9"
  },
  "orig_nbformat": 4
 },
 "nbformat": 4,
 "nbformat_minor": 2
}
